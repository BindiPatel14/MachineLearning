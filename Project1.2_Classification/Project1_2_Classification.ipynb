{
 "cells": [
  {
   "cell_type": "markdown",
   "id": "ecb8f636",
   "metadata": {},
   "source": [
    "This is part 2 of Project1_Classification.\n",
    "\n",
    "\n",
    "<b>CLASSIFICATION: Rain in Australia </b>\n",
    "\n",
    "The data for the classification part of my project has been taken from Kaggle. The URL for the data set is as follows:\n",
    "    \n",
    "URL: https://www.kaggle.com/jsphyg/weather-dataset-rattle-package\n",
    "\n",
    "Description of the dataset:\n",
    "This dataset consists of weather observations taken across various weather stations in Australia for a duration of 10 years\n",
    "I have chosen the target variable as RainTomorrow which would be used to predict if it would rain tomorrow in Australia or not. RainTomorrow is bivariate variable and can be one of the following values as output: \n",
    "\n",
    "1: Yes - It will rain tomorrow<br>\n",
    "2: No - It will not rain tomorrow<br><br>\n",
    "\n",
    "<b>In this project, I am running below machine learning models to predict the outcome of weather in Australia.\n",
    "\n",
    "Hard voting Classifier<br>\n",
    "Soft Voting Classifier<br>\n",
    "Bagging with Decision Tree and SVC<br>\n",
    "PASTING with Decision Tree and SVC<br>\n",
    "ADABOOSTING with Decision Tree and Logistic Regression<br>\n",
    "Gradient Boosting<br>\n",
    "PCA</b>\n",
    "\n",
    "\n",
    "Features: 23 <br>\n",
    "Instances: 145461 <br>\n",
    "Missing data: Yes<br>\n",
    "Categorical columns: 7 <br>\n",
    "\n",
    "FEATURE DESCRIPTION:<br>\n",
    "\n",
    "Date:- The date when the observation was taken <br>\n",
    "Location:- Location where the observation was taken<br>\n",
    "MinTemp:- The minimum temperature in degrees celsius on the date the observation was taken<br>\n",
    "MaxTemp:- The maximum temperature in degrees celsius on the date the observation was taken<br>\n",
    "Rainfall:- The amount of rainfall recorded for the day in mm<br>\n",
    "Evaporation:- The so-called Class A pan evaporation (mm) in the 24 hours to 9am<br>\n",
    "Sunshine:- The number of hours of bright sunshine in the day.<br>\n",
    "WindGustDir:- The direction of the strongest wind gust in the 24 hours to midnight<br>\n",
    "WindGustSpeed:- The speed (km/h) of the strongest wind gust in the 24 hours to midnight<br>\n",
    "WindDir9am:- Direction of the wind taken at morning 9am<br>\n",
    "WindDir3pm:- Direction of the wind taken atfternoon 3pm<br>\n",
    "WindSpeed9am:- Wind speed (km/hr) averaged over 10 minutes prior to 9am<br>\n",
    "WindSpeed3pm:- Wind speed (km/hr) averaged over 10 minutes prior to 3pm       \n",
    "Humidity9am:- Humidity(percent)  observed at location at 9am on the day of the observation      \n",
    "Humidity3pm:- Humidity(percent)  observed at location at 3pm on the day of the observation       \n",
    "Pressure9am:- Atmospheric pressure (hpa) reduced to mean sea level at 9am        \n",
    "Pressure3pm:- Atmospheric pressure (hpa) reduced to mean sea level at 3pm        \n",
    "Cloud9am:- Fraction of sky obscured by cloud at 9am. This is measured in \"oktas\", which are a unit of eigths.<br>\n",
    "Cloud3pm:- Fraction of sky obscured by cloud at 3pm. This is measured in \"oktas\", which are a unit of eigths.<br>\n",
    "Temp9am:- Temperature in degrees celsius observed at location at 9am on the day of the observation<br> \n",
    "Temp3pm:- Temperature in degrees celsius observed at location at 3pm on the day of the observation<br> \n",
    "RainToday:- Boolean value indicating if precipitation (mm) in the 24 hours to 9am exceeds 1mm<br>\n",
    "RainTomorrow:- The amount of next day rain in mm. Used to create response variable RainTomorrow. A kind of measure of the \"risk\".<br>"
   ]
  },
  {
   "cell_type": "code",
   "execution_count": 1,
   "id": "d119e6da",
   "metadata": {},
   "outputs": [],
   "source": [
    "import numpy as np\n",
    "import datetime as dt\n",
    "import matplotlib.pyplot as plt\n",
    "import pandas as pd\n",
    "import seaborn as sns"
   ]
  },
  {
   "cell_type": "code",
   "execution_count": 2,
   "id": "a4b47fbc",
   "metadata": {},
   "outputs": [],
   "source": [
    "df = pd.read_csv('weatherAUS.csv')"
   ]
  },
  {
   "cell_type": "code",
   "execution_count": 3,
   "id": "97d5ccaa",
   "metadata": {},
   "outputs": [
    {
     "data": {
      "text/html": [
       "<div>\n",
       "<style scoped>\n",
       "    .dataframe tbody tr th:only-of-type {\n",
       "        vertical-align: middle;\n",
       "    }\n",
       "\n",
       "    .dataframe tbody tr th {\n",
       "        vertical-align: top;\n",
       "    }\n",
       "\n",
       "    .dataframe thead th {\n",
       "        text-align: right;\n",
       "    }\n",
       "</style>\n",
       "<table border=\"1\" class=\"dataframe\">\n",
       "  <thead>\n",
       "    <tr style=\"text-align: right;\">\n",
       "      <th></th>\n",
       "      <th>MinTemp</th>\n",
       "      <th>MaxTemp</th>\n",
       "      <th>Rainfall</th>\n",
       "      <th>Evaporation</th>\n",
       "      <th>Sunshine</th>\n",
       "      <th>WindGustSpeed</th>\n",
       "      <th>WindSpeed9am</th>\n",
       "      <th>WindSpeed3pm</th>\n",
       "      <th>Humidity9am</th>\n",
       "      <th>Humidity3pm</th>\n",
       "      <th>Pressure9am</th>\n",
       "      <th>Pressure3pm</th>\n",
       "      <th>Cloud9am</th>\n",
       "      <th>Cloud3pm</th>\n",
       "      <th>Temp9am</th>\n",
       "      <th>Temp3pm</th>\n",
       "    </tr>\n",
       "  </thead>\n",
       "  <tbody>\n",
       "    <tr>\n",
       "      <th>count</th>\n",
       "      <td>143975.000000</td>\n",
       "      <td>144199.000000</td>\n",
       "      <td>142199.000000</td>\n",
       "      <td>82670.000000</td>\n",
       "      <td>75625.000000</td>\n",
       "      <td>135197.000000</td>\n",
       "      <td>143693.000000</td>\n",
       "      <td>142398.000000</td>\n",
       "      <td>142806.000000</td>\n",
       "      <td>140953.000000</td>\n",
       "      <td>130395.00000</td>\n",
       "      <td>130432.000000</td>\n",
       "      <td>89572.000000</td>\n",
       "      <td>86102.000000</td>\n",
       "      <td>143693.000000</td>\n",
       "      <td>141851.00000</td>\n",
       "    </tr>\n",
       "    <tr>\n",
       "      <th>mean</th>\n",
       "      <td>12.194034</td>\n",
       "      <td>23.221348</td>\n",
       "      <td>2.360918</td>\n",
       "      <td>5.468232</td>\n",
       "      <td>7.611178</td>\n",
       "      <td>40.035230</td>\n",
       "      <td>14.043426</td>\n",
       "      <td>18.662657</td>\n",
       "      <td>68.880831</td>\n",
       "      <td>51.539116</td>\n",
       "      <td>1017.64994</td>\n",
       "      <td>1015.255889</td>\n",
       "      <td>4.447461</td>\n",
       "      <td>4.509930</td>\n",
       "      <td>16.990631</td>\n",
       "      <td>21.68339</td>\n",
       "    </tr>\n",
       "    <tr>\n",
       "      <th>std</th>\n",
       "      <td>6.398495</td>\n",
       "      <td>7.119049</td>\n",
       "      <td>8.478060</td>\n",
       "      <td>4.193704</td>\n",
       "      <td>3.785483</td>\n",
       "      <td>13.607062</td>\n",
       "      <td>8.915375</td>\n",
       "      <td>8.809800</td>\n",
       "      <td>19.029164</td>\n",
       "      <td>20.795902</td>\n",
       "      <td>7.10653</td>\n",
       "      <td>7.037414</td>\n",
       "      <td>2.887159</td>\n",
       "      <td>2.720357</td>\n",
       "      <td>6.488753</td>\n",
       "      <td>6.93665</td>\n",
       "    </tr>\n",
       "    <tr>\n",
       "      <th>min</th>\n",
       "      <td>-8.500000</td>\n",
       "      <td>-4.800000</td>\n",
       "      <td>0.000000</td>\n",
       "      <td>0.000000</td>\n",
       "      <td>0.000000</td>\n",
       "      <td>6.000000</td>\n",
       "      <td>0.000000</td>\n",
       "      <td>0.000000</td>\n",
       "      <td>0.000000</td>\n",
       "      <td>0.000000</td>\n",
       "      <td>980.50000</td>\n",
       "      <td>977.100000</td>\n",
       "      <td>0.000000</td>\n",
       "      <td>0.000000</td>\n",
       "      <td>-7.200000</td>\n",
       "      <td>-5.40000</td>\n",
       "    </tr>\n",
       "    <tr>\n",
       "      <th>25%</th>\n",
       "      <td>7.600000</td>\n",
       "      <td>17.900000</td>\n",
       "      <td>0.000000</td>\n",
       "      <td>2.600000</td>\n",
       "      <td>4.800000</td>\n",
       "      <td>31.000000</td>\n",
       "      <td>7.000000</td>\n",
       "      <td>13.000000</td>\n",
       "      <td>57.000000</td>\n",
       "      <td>37.000000</td>\n",
       "      <td>1012.90000</td>\n",
       "      <td>1010.400000</td>\n",
       "      <td>1.000000</td>\n",
       "      <td>2.000000</td>\n",
       "      <td>12.300000</td>\n",
       "      <td>16.60000</td>\n",
       "    </tr>\n",
       "    <tr>\n",
       "      <th>50%</th>\n",
       "      <td>12.000000</td>\n",
       "      <td>22.600000</td>\n",
       "      <td>0.000000</td>\n",
       "      <td>4.800000</td>\n",
       "      <td>8.400000</td>\n",
       "      <td>39.000000</td>\n",
       "      <td>13.000000</td>\n",
       "      <td>19.000000</td>\n",
       "      <td>70.000000</td>\n",
       "      <td>52.000000</td>\n",
       "      <td>1017.60000</td>\n",
       "      <td>1015.200000</td>\n",
       "      <td>5.000000</td>\n",
       "      <td>5.000000</td>\n",
       "      <td>16.700000</td>\n",
       "      <td>21.10000</td>\n",
       "    </tr>\n",
       "    <tr>\n",
       "      <th>75%</th>\n",
       "      <td>16.900000</td>\n",
       "      <td>28.200000</td>\n",
       "      <td>0.800000</td>\n",
       "      <td>7.400000</td>\n",
       "      <td>10.600000</td>\n",
       "      <td>48.000000</td>\n",
       "      <td>19.000000</td>\n",
       "      <td>24.000000</td>\n",
       "      <td>83.000000</td>\n",
       "      <td>66.000000</td>\n",
       "      <td>1022.40000</td>\n",
       "      <td>1020.000000</td>\n",
       "      <td>7.000000</td>\n",
       "      <td>7.000000</td>\n",
       "      <td>21.600000</td>\n",
       "      <td>26.40000</td>\n",
       "    </tr>\n",
       "    <tr>\n",
       "      <th>max</th>\n",
       "      <td>33.900000</td>\n",
       "      <td>48.100000</td>\n",
       "      <td>371.000000</td>\n",
       "      <td>145.000000</td>\n",
       "      <td>14.500000</td>\n",
       "      <td>135.000000</td>\n",
       "      <td>130.000000</td>\n",
       "      <td>87.000000</td>\n",
       "      <td>100.000000</td>\n",
       "      <td>100.000000</td>\n",
       "      <td>1041.00000</td>\n",
       "      <td>1039.600000</td>\n",
       "      <td>9.000000</td>\n",
       "      <td>9.000000</td>\n",
       "      <td>40.200000</td>\n",
       "      <td>46.70000</td>\n",
       "    </tr>\n",
       "  </tbody>\n",
       "</table>\n",
       "</div>"
      ],
      "text/plain": [
       "             MinTemp        MaxTemp       Rainfall   Evaporation  \\\n",
       "count  143975.000000  144199.000000  142199.000000  82670.000000   \n",
       "mean       12.194034      23.221348       2.360918      5.468232   \n",
       "std         6.398495       7.119049       8.478060      4.193704   \n",
       "min        -8.500000      -4.800000       0.000000      0.000000   \n",
       "25%         7.600000      17.900000       0.000000      2.600000   \n",
       "50%        12.000000      22.600000       0.000000      4.800000   \n",
       "75%        16.900000      28.200000       0.800000      7.400000   \n",
       "max        33.900000      48.100000     371.000000    145.000000   \n",
       "\n",
       "           Sunshine  WindGustSpeed   WindSpeed9am   WindSpeed3pm  \\\n",
       "count  75625.000000  135197.000000  143693.000000  142398.000000   \n",
       "mean       7.611178      40.035230      14.043426      18.662657   \n",
       "std        3.785483      13.607062       8.915375       8.809800   \n",
       "min        0.000000       6.000000       0.000000       0.000000   \n",
       "25%        4.800000      31.000000       7.000000      13.000000   \n",
       "50%        8.400000      39.000000      13.000000      19.000000   \n",
       "75%       10.600000      48.000000      19.000000      24.000000   \n",
       "max       14.500000     135.000000     130.000000      87.000000   \n",
       "\n",
       "         Humidity9am    Humidity3pm   Pressure9am    Pressure3pm  \\\n",
       "count  142806.000000  140953.000000  130395.00000  130432.000000   \n",
       "mean       68.880831      51.539116    1017.64994    1015.255889   \n",
       "std        19.029164      20.795902       7.10653       7.037414   \n",
       "min         0.000000       0.000000     980.50000     977.100000   \n",
       "25%        57.000000      37.000000    1012.90000    1010.400000   \n",
       "50%        70.000000      52.000000    1017.60000    1015.200000   \n",
       "75%        83.000000      66.000000    1022.40000    1020.000000   \n",
       "max       100.000000     100.000000    1041.00000    1039.600000   \n",
       "\n",
       "           Cloud9am      Cloud3pm        Temp9am       Temp3pm  \n",
       "count  89572.000000  86102.000000  143693.000000  141851.00000  \n",
       "mean       4.447461      4.509930      16.990631      21.68339  \n",
       "std        2.887159      2.720357       6.488753       6.93665  \n",
       "min        0.000000      0.000000      -7.200000      -5.40000  \n",
       "25%        1.000000      2.000000      12.300000      16.60000  \n",
       "50%        5.000000      5.000000      16.700000      21.10000  \n",
       "75%        7.000000      7.000000      21.600000      26.40000  \n",
       "max        9.000000      9.000000      40.200000      46.70000  "
      ]
     },
     "execution_count": 3,
     "metadata": {},
     "output_type": "execute_result"
    }
   ],
   "source": [
    "df.describe()"
   ]
  },
  {
   "cell_type": "code",
   "execution_count": 4,
   "id": "31a59c25",
   "metadata": {},
   "outputs": [
    {
     "data": {
      "text/html": [
       "<div>\n",
       "<style scoped>\n",
       "    .dataframe tbody tr th:only-of-type {\n",
       "        vertical-align: middle;\n",
       "    }\n",
       "\n",
       "    .dataframe tbody tr th {\n",
       "        vertical-align: top;\n",
       "    }\n",
       "\n",
       "    .dataframe thead th {\n",
       "        text-align: right;\n",
       "    }\n",
       "</style>\n",
       "<table border=\"1\" class=\"dataframe\">\n",
       "  <thead>\n",
       "    <tr style=\"text-align: right;\">\n",
       "      <th></th>\n",
       "      <th>Date</th>\n",
       "      <th>Location</th>\n",
       "      <th>MinTemp</th>\n",
       "      <th>MaxTemp</th>\n",
       "      <th>Rainfall</th>\n",
       "      <th>Evaporation</th>\n",
       "      <th>Sunshine</th>\n",
       "      <th>WindGustDir</th>\n",
       "      <th>WindGustSpeed</th>\n",
       "      <th>WindDir9am</th>\n",
       "      <th>...</th>\n",
       "      <th>Humidity9am</th>\n",
       "      <th>Humidity3pm</th>\n",
       "      <th>Pressure9am</th>\n",
       "      <th>Pressure3pm</th>\n",
       "      <th>Cloud9am</th>\n",
       "      <th>Cloud3pm</th>\n",
       "      <th>Temp9am</th>\n",
       "      <th>Temp3pm</th>\n",
       "      <th>RainToday</th>\n",
       "      <th>RainTomorrow</th>\n",
       "    </tr>\n",
       "  </thead>\n",
       "  <tbody>\n",
       "    <tr>\n",
       "      <th>0</th>\n",
       "      <td>2008-12-01</td>\n",
       "      <td>Albury</td>\n",
       "      <td>13.4</td>\n",
       "      <td>22.9</td>\n",
       "      <td>0.6</td>\n",
       "      <td>NaN</td>\n",
       "      <td>NaN</td>\n",
       "      <td>W</td>\n",
       "      <td>44.0</td>\n",
       "      <td>W</td>\n",
       "      <td>...</td>\n",
       "      <td>71.0</td>\n",
       "      <td>22.0</td>\n",
       "      <td>1007.7</td>\n",
       "      <td>1007.1</td>\n",
       "      <td>8.0</td>\n",
       "      <td>NaN</td>\n",
       "      <td>16.9</td>\n",
       "      <td>21.8</td>\n",
       "      <td>No</td>\n",
       "      <td>No</td>\n",
       "    </tr>\n",
       "    <tr>\n",
       "      <th>1</th>\n",
       "      <td>2008-12-02</td>\n",
       "      <td>Albury</td>\n",
       "      <td>7.4</td>\n",
       "      <td>25.1</td>\n",
       "      <td>0.0</td>\n",
       "      <td>NaN</td>\n",
       "      <td>NaN</td>\n",
       "      <td>WNW</td>\n",
       "      <td>44.0</td>\n",
       "      <td>NNW</td>\n",
       "      <td>...</td>\n",
       "      <td>44.0</td>\n",
       "      <td>25.0</td>\n",
       "      <td>1010.6</td>\n",
       "      <td>1007.8</td>\n",
       "      <td>NaN</td>\n",
       "      <td>NaN</td>\n",
       "      <td>17.2</td>\n",
       "      <td>24.3</td>\n",
       "      <td>No</td>\n",
       "      <td>No</td>\n",
       "    </tr>\n",
       "    <tr>\n",
       "      <th>2</th>\n",
       "      <td>2008-12-03</td>\n",
       "      <td>Albury</td>\n",
       "      <td>12.9</td>\n",
       "      <td>25.7</td>\n",
       "      <td>0.0</td>\n",
       "      <td>NaN</td>\n",
       "      <td>NaN</td>\n",
       "      <td>WSW</td>\n",
       "      <td>46.0</td>\n",
       "      <td>W</td>\n",
       "      <td>...</td>\n",
       "      <td>38.0</td>\n",
       "      <td>30.0</td>\n",
       "      <td>1007.6</td>\n",
       "      <td>1008.7</td>\n",
       "      <td>NaN</td>\n",
       "      <td>2.0</td>\n",
       "      <td>21.0</td>\n",
       "      <td>23.2</td>\n",
       "      <td>No</td>\n",
       "      <td>No</td>\n",
       "    </tr>\n",
       "    <tr>\n",
       "      <th>3</th>\n",
       "      <td>2008-12-04</td>\n",
       "      <td>Albury</td>\n",
       "      <td>9.2</td>\n",
       "      <td>28.0</td>\n",
       "      <td>0.0</td>\n",
       "      <td>NaN</td>\n",
       "      <td>NaN</td>\n",
       "      <td>NE</td>\n",
       "      <td>24.0</td>\n",
       "      <td>SE</td>\n",
       "      <td>...</td>\n",
       "      <td>45.0</td>\n",
       "      <td>16.0</td>\n",
       "      <td>1017.6</td>\n",
       "      <td>1012.8</td>\n",
       "      <td>NaN</td>\n",
       "      <td>NaN</td>\n",
       "      <td>18.1</td>\n",
       "      <td>26.5</td>\n",
       "      <td>No</td>\n",
       "      <td>No</td>\n",
       "    </tr>\n",
       "    <tr>\n",
       "      <th>4</th>\n",
       "      <td>2008-12-05</td>\n",
       "      <td>Albury</td>\n",
       "      <td>17.5</td>\n",
       "      <td>32.3</td>\n",
       "      <td>1.0</td>\n",
       "      <td>NaN</td>\n",
       "      <td>NaN</td>\n",
       "      <td>W</td>\n",
       "      <td>41.0</td>\n",
       "      <td>ENE</td>\n",
       "      <td>...</td>\n",
       "      <td>82.0</td>\n",
       "      <td>33.0</td>\n",
       "      <td>1010.8</td>\n",
       "      <td>1006.0</td>\n",
       "      <td>7.0</td>\n",
       "      <td>8.0</td>\n",
       "      <td>17.8</td>\n",
       "      <td>29.7</td>\n",
       "      <td>No</td>\n",
       "      <td>No</td>\n",
       "    </tr>\n",
       "  </tbody>\n",
       "</table>\n",
       "<p>5 rows × 23 columns</p>\n",
       "</div>"
      ],
      "text/plain": [
       "         Date Location  MinTemp  MaxTemp  Rainfall  Evaporation  Sunshine  \\\n",
       "0  2008-12-01   Albury     13.4     22.9       0.6          NaN       NaN   \n",
       "1  2008-12-02   Albury      7.4     25.1       0.0          NaN       NaN   \n",
       "2  2008-12-03   Albury     12.9     25.7       0.0          NaN       NaN   \n",
       "3  2008-12-04   Albury      9.2     28.0       0.0          NaN       NaN   \n",
       "4  2008-12-05   Albury     17.5     32.3       1.0          NaN       NaN   \n",
       "\n",
       "  WindGustDir  WindGustSpeed WindDir9am  ... Humidity9am  Humidity3pm  \\\n",
       "0           W           44.0          W  ...        71.0         22.0   \n",
       "1         WNW           44.0        NNW  ...        44.0         25.0   \n",
       "2         WSW           46.0          W  ...        38.0         30.0   \n",
       "3          NE           24.0         SE  ...        45.0         16.0   \n",
       "4           W           41.0        ENE  ...        82.0         33.0   \n",
       "\n",
       "   Pressure9am  Pressure3pm  Cloud9am  Cloud3pm  Temp9am  Temp3pm  RainToday  \\\n",
       "0       1007.7       1007.1       8.0       NaN     16.9     21.8         No   \n",
       "1       1010.6       1007.8       NaN       NaN     17.2     24.3         No   \n",
       "2       1007.6       1008.7       NaN       2.0     21.0     23.2         No   \n",
       "3       1017.6       1012.8       NaN       NaN     18.1     26.5         No   \n",
       "4       1010.8       1006.0       7.0       8.0     17.8     29.7         No   \n",
       "\n",
       "   RainTomorrow  \n",
       "0            No  \n",
       "1            No  \n",
       "2            No  \n",
       "3            No  \n",
       "4            No  \n",
       "\n",
       "[5 rows x 23 columns]"
      ]
     },
     "execution_count": 4,
     "metadata": {},
     "output_type": "execute_result"
    }
   ],
   "source": [
    "df.head()"
   ]
  },
  {
   "cell_type": "code",
   "execution_count": 5,
   "id": "94eae0d1",
   "metadata": {},
   "outputs": [
    {
     "data": {
      "text/plain": [
       "343248"
      ]
     },
     "execution_count": 5,
     "metadata": {},
     "output_type": "execute_result"
    }
   ],
   "source": [
    "df.isnull().sum().sum()"
   ]
  },
  {
   "cell_type": "code",
   "execution_count": 6,
   "id": "0f1f7b3e",
   "metadata": {},
   "outputs": [
    {
     "name": "stdout",
     "output_type": "stream",
     "text": [
      "<class 'pandas.core.frame.DataFrame'>\n",
      "RangeIndex: 145460 entries, 0 to 145459\n",
      "Data columns (total 23 columns):\n",
      " #   Column         Non-Null Count   Dtype  \n",
      "---  ------         --------------   -----  \n",
      " 0   Date           145460 non-null  object \n",
      " 1   Location       145460 non-null  object \n",
      " 2   MinTemp        143975 non-null  float64\n",
      " 3   MaxTemp        144199 non-null  float64\n",
      " 4   Rainfall       142199 non-null  float64\n",
      " 5   Evaporation    82670 non-null   float64\n",
      " 6   Sunshine       75625 non-null   float64\n",
      " 7   WindGustDir    135134 non-null  object \n",
      " 8   WindGustSpeed  135197 non-null  float64\n",
      " 9   WindDir9am     134894 non-null  object \n",
      " 10  WindDir3pm     141232 non-null  object \n",
      " 11  WindSpeed9am   143693 non-null  float64\n",
      " 12  WindSpeed3pm   142398 non-null  float64\n",
      " 13  Humidity9am    142806 non-null  float64\n",
      " 14  Humidity3pm    140953 non-null  float64\n",
      " 15  Pressure9am    130395 non-null  float64\n",
      " 16  Pressure3pm    130432 non-null  float64\n",
      " 17  Cloud9am       89572 non-null   float64\n",
      " 18  Cloud3pm       86102 non-null   float64\n",
      " 19  Temp9am        143693 non-null  float64\n",
      " 20  Temp3pm        141851 non-null  float64\n",
      " 21  RainToday      142199 non-null  object \n",
      " 22  RainTomorrow   142193 non-null  object \n",
      "dtypes: float64(16), object(7)\n",
      "memory usage: 25.5+ MB\n"
     ]
    }
   ],
   "source": [
    "df.info()"
   ]
  },
  {
   "cell_type": "code",
   "execution_count": 7,
   "id": "a9d29a81",
   "metadata": {},
   "outputs": [
    {
     "data": {
      "text/plain": [
       "145460"
      ]
     },
     "execution_count": 7,
     "metadata": {},
     "output_type": "execute_result"
    }
   ],
   "source": [
    "len(df)"
   ]
  },
  {
   "cell_type": "markdown",
   "id": "57a7d92f",
   "metadata": {},
   "source": [
    "<b size=\"3\">Thus there are a total of 145460 observations in the data. this dataset is very huge for analysis, and thus needs to be split randomly using train_test_split function into train and test data</b>"
   ]
  },
  {
   "cell_type": "code",
   "execution_count": 8,
   "id": "fd46ff65",
   "metadata": {},
   "outputs": [],
   "source": [
    "from sklearn.model_selection import train_test_split\n",
    "\n",
    "train, test = train_test_split(df, test_size=0.2)\n",
    "\n"
   ]
  },
  {
   "cell_type": "code",
   "execution_count": 9,
   "id": "790ca66e",
   "metadata": {},
   "outputs": [
    {
     "data": {
      "text/plain": [
       "29092"
      ]
     },
     "execution_count": 9,
     "metadata": {},
     "output_type": "execute_result"
    }
   ],
   "source": [
    "len(test)"
   ]
  },
  {
   "cell_type": "code",
   "execution_count": 10,
   "id": "fb630122",
   "metadata": {},
   "outputs": [],
   "source": [
    "df = test"
   ]
  },
  {
   "cell_type": "code",
   "execution_count": 11,
   "id": "7ed81119",
   "metadata": {},
   "outputs": [
    {
     "name": "stdout",
     "output_type": "stream",
     "text": [
      "train shape: (116368, 23)\n",
      "test shape: (29092, 23)\n"
     ]
    }
   ],
   "source": [
    "print(\"train shape: {}\".format(train.shape))\n",
    "print(\"test shape: {}\".format(test.shape))"
   ]
  },
  {
   "cell_type": "code",
   "execution_count": 12,
   "id": "43d99da7",
   "metadata": {},
   "outputs": [
    {
     "data": {
      "text/plain": [
       "array(['No', 'Yes', nan], dtype=object)"
      ]
     },
     "execution_count": 12,
     "metadata": {},
     "output_type": "execute_result"
    }
   ],
   "source": [
    "df.RainToday.unique()"
   ]
  },
  {
   "cell_type": "code",
   "execution_count": 13,
   "id": "f49fb41d",
   "metadata": {},
   "outputs": [
    {
     "data": {
      "text/plain": [
       "array(['No', 'Yes', nan], dtype=object)"
      ]
     },
     "execution_count": 13,
     "metadata": {},
     "output_type": "execute_result"
    }
   ],
   "source": [
    "df.RainTomorrow.unique()"
   ]
  },
  {
   "cell_type": "markdown",
   "id": "22d06d6f",
   "metadata": {},
   "source": [
    "# <u>DATA CLEANING</u></b>"
   ]
  },
  {
   "cell_type": "markdown",
   "id": "5a69fa32",
   "metadata": {},
   "source": [
    "Dropping all the observations which do not have values for either RainToday or RainTomorrow columns in the dataset, as they would not be useful for analysis, since prediction would require training, and I cannot compute these missing values as it would introduce bias into the models."
   ]
  },
  {
   "cell_type": "code",
   "execution_count": 14,
   "id": "001fec98",
   "metadata": {
    "scrolled": true
   },
   "outputs": [],
   "source": [
    "df.dropna(subset=['RainToday', 'RainTomorrow'], inplace=True)"
   ]
  },
  {
   "cell_type": "code",
   "execution_count": 15,
   "id": "7f2394a3",
   "metadata": {},
   "outputs": [
    {
     "data": {
      "text/plain": [
       "array(['Ballarat', 'Canberra', 'Richmond', 'BadgerysCreek', 'Portland',\n",
       "       'AliceSprings', 'Cobar', 'WaggaWagga', 'Launceston', 'Darwin',\n",
       "       'Hobart', 'Witchcliffe', 'NorfolkIsland', 'Sydney',\n",
       "       'MelbourneAirport', 'Wollongong', 'Albury', 'Perth', 'Mildura',\n",
       "       'Woomera', 'Cairns', 'NorahHead', 'Dartmoor', 'SalmonGums',\n",
       "       'Newcastle', 'GoldCoast', 'Albany', 'Nuriootpa', 'Watsonia',\n",
       "       'Moree', 'MountGinini', 'PerthAirport', 'Townsville',\n",
       "       'CoffsHarbour', 'Williamtown', 'Penrith', 'Brisbane', 'Sale',\n",
       "       'Bendigo', 'Adelaide', 'Walpole', 'Tuggeranong', 'Melbourne',\n",
       "       'Nhil', 'PearceRAAF', 'Katherine', 'MountGambier', 'Uluru',\n",
       "       'SydneyAirport'], dtype=object)"
      ]
     },
     "execution_count": 15,
     "metadata": {},
     "output_type": "execute_result"
    }
   ],
   "source": [
    "df.Location.unique()"
   ]
  },
  {
   "cell_type": "code",
   "execution_count": 16,
   "id": "1309d7c3",
   "metadata": {},
   "outputs": [
    {
     "data": {
      "text/plain": [
       "array(['2010-04-05', '2016-03-18', '2014-08-08', ..., '2008-05-21',\n",
       "       '2008-09-08', '2008-03-11'], dtype=object)"
      ]
     },
     "execution_count": 16,
     "metadata": {},
     "output_type": "execute_result"
    }
   ],
   "source": [
    "df.Date.unique()"
   ]
  },
  {
   "cell_type": "code",
   "execution_count": 17,
   "id": "4c3d0657",
   "metadata": {},
   "outputs": [
    {
     "data": {
      "text/plain": [
       "array(['NNE', 'NNW', 'E', 'SSW', 'WSW', nan, 'SW', 'NW', 'SE', 'NE', 'N',\n",
       "       'ESE', 'S', 'WNW', 'W', 'ENE', 'SSE'], dtype=object)"
      ]
     },
     "execution_count": 17,
     "metadata": {},
     "output_type": "execute_result"
    }
   ],
   "source": [
    "df.WindGustDir.unique()"
   ]
  },
  {
   "cell_type": "markdown",
   "id": "36f70405",
   "metadata": {},
   "source": [
    "<b size=\"3\">Since I am using this anlysis to predict whether it would rain the next day in Australia and not for a particular location, hence I am dropping the colum for Location. And since prediction is being made for the next day and not related to a particular date, I am dropping date column as well. <br>\n",
    "Given that I have separate columns for observations of Wind Direction taken at 9am and 3pm,, I can drop the WindGustDir column as well.</b>"
   ]
  },
  {
   "cell_type": "code",
   "execution_count": 18,
   "id": "2fc733c6",
   "metadata": {
    "scrolled": false
   },
   "outputs": [],
   "source": [
    "df.drop(['Date', 'Location','WindGustDir'], axis = 1, inplace = True)\n"
   ]
  },
  {
   "cell_type": "code",
   "execution_count": 19,
   "id": "58dcff6b",
   "metadata": {},
   "outputs": [
    {
     "name": "stdout",
     "output_type": "stream",
     "text": [
      "<class 'pandas.core.frame.DataFrame'>\n",
      "Int64Index: 28173 entries, 55592 to 127035\n",
      "Data columns (total 20 columns):\n",
      " #   Column         Non-Null Count  Dtype  \n",
      "---  ------         --------------  -----  \n",
      " 0   MinTemp        28076 non-null  float64\n",
      " 1   MaxTemp        28103 non-null  float64\n",
      " 2   Rainfall       28173 non-null  float64\n",
      " 3   Evaporation    16104 non-null  float64\n",
      " 4   Sunshine       14700 non-null  float64\n",
      " 5   WindGustSpeed  26277 non-null  float64\n",
      " 6   WindDir9am     26232 non-null  object \n",
      " 7   WindDir3pm     27381 non-null  object \n",
      " 8   WindSpeed9am   27959 non-null  float64\n",
      " 9   WindSpeed3pm   27620 non-null  float64\n",
      " 10  Humidity9am    27854 non-null  float64\n",
      " 11  Humidity3pm    27440 non-null  float64\n",
      " 12  Pressure9am    25398 non-null  float64\n",
      " 13  Pressure3pm    25397 non-null  float64\n",
      " 14  Cloud9am       17589 non-null  float64\n",
      " 15  Cloud3pm       16872 non-null  float64\n",
      " 16  Temp9am        28024 non-null  float64\n",
      " 17  Temp3pm        27620 non-null  float64\n",
      " 18  RainToday      28173 non-null  object \n",
      " 19  RainTomorrow   28173 non-null  object \n",
      "dtypes: float64(16), object(4)\n",
      "memory usage: 4.5+ MB\n"
     ]
    }
   ],
   "source": [
    "df.info()"
   ]
  },
  {
   "cell_type": "markdown",
   "id": "e0eba44e",
   "metadata": {},
   "source": [
    "<b size = \"3\"><u>DATA TRANSFORMATION</u></b>"
   ]
  },
  {
   "cell_type": "markdown",
   "id": "d4718d0b",
   "metadata": {},
   "source": [
    "<b size = \"3\">Imputing missing values for all the remaining columns</b>"
   ]
  },
  {
   "cell_type": "markdown",
   "id": "cdd657c3",
   "metadata": {},
   "source": [
    "<b size=\"3\">Mean Imputation: </b><br>I will replace all missing values for MinTemp,MaxTemp,Rainfall,Evaporation,Pressure9am,Pressure3pm,Temp9am,Temp3pm and Sunshine features with the mean value of each feature"
   ]
  },
  {
   "cell_type": "markdown",
   "id": "faee9276",
   "metadata": {},
   "source": [
    "<b size=\"3\">Median Imputation:</b><br>\n",
    "I will replace all missing values for WindGustSpeed,WindDir9am,WindDir3pm,Humidity9am,Humidity3pm,Cloud9am and Cloud3pm features with the median value of each feature"
   ]
  },
  {
   "cell_type": "code",
   "execution_count": 20,
   "id": "6315b494",
   "metadata": {
    "scrolled": false
   },
   "outputs": [
    {
     "data": {
      "text/plain": [
       "False    28076\n",
       "True        97\n",
       "Name: MinTemp, dtype: int64"
      ]
     },
     "execution_count": 20,
     "metadata": {},
     "output_type": "execute_result"
    }
   ],
   "source": [
    "df.MinTemp.isnull().value_counts()"
   ]
  },
  {
   "cell_type": "code",
   "execution_count": 21,
   "id": "2b7f830e",
   "metadata": {},
   "outputs": [],
   "source": [
    "df[\"MinTemp\"].replace(np.nan,round(df['MinTemp'].mean(),1),inplace=True)"
   ]
  },
  {
   "cell_type": "code",
   "execution_count": 22,
   "id": "fcca998d",
   "metadata": {
    "scrolled": true
   },
   "outputs": [
    {
     "data": {
      "text/plain": [
       "False    28103\n",
       "True        70\n",
       "Name: MaxTemp, dtype: int64"
      ]
     },
     "execution_count": 22,
     "metadata": {},
     "output_type": "execute_result"
    }
   ],
   "source": [
    "df.MaxTemp.isnull().value_counts()"
   ]
  },
  {
   "cell_type": "code",
   "execution_count": 23,
   "id": "009e794b",
   "metadata": {},
   "outputs": [],
   "source": [
    "df[\"MaxTemp\"].replace(np.nan,round(df['MaxTemp'].mean(),1),inplace=True)"
   ]
  },
  {
   "cell_type": "code",
   "execution_count": 24,
   "id": "461830fd",
   "metadata": {},
   "outputs": [
    {
     "data": {
      "text/plain": [
       "False    28173\n",
       "Name: Rainfall, dtype: int64"
      ]
     },
     "execution_count": 24,
     "metadata": {},
     "output_type": "execute_result"
    }
   ],
   "source": [
    "df.Rainfall.isnull().value_counts()"
   ]
  },
  {
   "cell_type": "code",
   "execution_count": 25,
   "id": "fb01ec6f",
   "metadata": {},
   "outputs": [],
   "source": [
    "df[\"Rainfall\"].replace(np.nan,round(df['Rainfall'].mean(),1),inplace=True) "
   ]
  },
  {
   "cell_type": "code",
   "execution_count": 26,
   "id": "cc9a14c9",
   "metadata": {},
   "outputs": [
    {
     "data": {
      "text/plain": [
       "False    16104\n",
       "True     12069\n",
       "Name: Evaporation, dtype: int64"
      ]
     },
     "execution_count": 26,
     "metadata": {},
     "output_type": "execute_result"
    }
   ],
   "source": [
    "df.Evaporation.isnull().value_counts()"
   ]
  },
  {
   "cell_type": "code",
   "execution_count": 27,
   "id": "50a14750",
   "metadata": {},
   "outputs": [],
   "source": [
    "df[\"Evaporation\"].replace(np.nan,round(df['Evaporation'].mean(),1),inplace=True)"
   ]
  },
  {
   "cell_type": "code",
   "execution_count": 28,
   "id": "191186c5",
   "metadata": {},
   "outputs": [
    {
     "data": {
      "text/plain": [
       "False    14700\n",
       "True     13473\n",
       "Name: Sunshine, dtype: int64"
      ]
     },
     "execution_count": 28,
     "metadata": {},
     "output_type": "execute_result"
    }
   ],
   "source": [
    "df.Sunshine.isnull().value_counts()"
   ]
  },
  {
   "cell_type": "code",
   "execution_count": 29,
   "id": "0ffa961b",
   "metadata": {},
   "outputs": [],
   "source": [
    "df[\"Sunshine\"].replace(np.nan,round(df['Sunshine'].mean(),1),inplace=True)"
   ]
  },
  {
   "cell_type": "code",
   "execution_count": 30,
   "id": "cf69f322",
   "metadata": {},
   "outputs": [
    {
     "data": {
      "text/html": [
       "<div>\n",
       "<style scoped>\n",
       "    .dataframe tbody tr th:only-of-type {\n",
       "        vertical-align: middle;\n",
       "    }\n",
       "\n",
       "    .dataframe tbody tr th {\n",
       "        vertical-align: top;\n",
       "    }\n",
       "\n",
       "    .dataframe thead th {\n",
       "        text-align: right;\n",
       "    }\n",
       "</style>\n",
       "<table border=\"1\" class=\"dataframe\">\n",
       "  <thead>\n",
       "    <tr style=\"text-align: right;\">\n",
       "      <th></th>\n",
       "      <th>MinTemp</th>\n",
       "      <th>MaxTemp</th>\n",
       "      <th>Rainfall</th>\n",
       "      <th>Evaporation</th>\n",
       "      <th>Sunshine</th>\n",
       "      <th>WindGustSpeed</th>\n",
       "      <th>WindDir9am</th>\n",
       "      <th>WindDir3pm</th>\n",
       "      <th>WindSpeed9am</th>\n",
       "      <th>WindSpeed3pm</th>\n",
       "      <th>Humidity9am</th>\n",
       "      <th>Humidity3pm</th>\n",
       "      <th>Pressure9am</th>\n",
       "      <th>Pressure3pm</th>\n",
       "      <th>Cloud9am</th>\n",
       "      <th>Cloud3pm</th>\n",
       "      <th>Temp9am</th>\n",
       "      <th>Temp3pm</th>\n",
       "      <th>RainToday</th>\n",
       "      <th>RainTomorrow</th>\n",
       "    </tr>\n",
       "  </thead>\n",
       "  <tbody>\n",
       "    <tr>\n",
       "      <th>55592</th>\n",
       "      <td>9.4</td>\n",
       "      <td>23.5</td>\n",
       "      <td>0.2</td>\n",
       "      <td>5.5</td>\n",
       "      <td>7.6</td>\n",
       "      <td>46.0</td>\n",
       "      <td>NNE</td>\n",
       "      <td>N</td>\n",
       "      <td>28.0</td>\n",
       "      <td>24.0</td>\n",
       "      <td>56.0</td>\n",
       "      <td>46.0</td>\n",
       "      <td>1017.5</td>\n",
       "      <td>1014.4</td>\n",
       "      <td>2.0</td>\n",
       "      <td>3.0</td>\n",
       "      <td>17.6</td>\n",
       "      <td>22.2</td>\n",
       "      <td>No</td>\n",
       "      <td>No</td>\n",
       "    </tr>\n",
       "    <tr>\n",
       "      <th>48558</th>\n",
       "      <td>14.0</td>\n",
       "      <td>19.6</td>\n",
       "      <td>7.4</td>\n",
       "      <td>5.5</td>\n",
       "      <td>7.6</td>\n",
       "      <td>87.0</td>\n",
       "      <td>N</td>\n",
       "      <td>WNW</td>\n",
       "      <td>24.0</td>\n",
       "      <td>46.0</td>\n",
       "      <td>95.0</td>\n",
       "      <td>49.0</td>\n",
       "      <td>1001.3</td>\n",
       "      <td>996.7</td>\n",
       "      <td>8.0</td>\n",
       "      <td>NaN</td>\n",
       "      <td>16.8</td>\n",
       "      <td>19.3</td>\n",
       "      <td>Yes</td>\n",
       "      <td>Yes</td>\n",
       "    </tr>\n",
       "    <tr>\n",
       "      <th>29123</th>\n",
       "      <td>0.1</td>\n",
       "      <td>18.9</td>\n",
       "      <td>0.0</td>\n",
       "      <td>5.5</td>\n",
       "      <td>7.6</td>\n",
       "      <td>22.0</td>\n",
       "      <td>S</td>\n",
       "      <td>ENE</td>\n",
       "      <td>2.0</td>\n",
       "      <td>13.0</td>\n",
       "      <td>88.0</td>\n",
       "      <td>49.0</td>\n",
       "      <td>1032.7</td>\n",
       "      <td>1029.1</td>\n",
       "      <td>4.0</td>\n",
       "      <td>NaN</td>\n",
       "      <td>7.1</td>\n",
       "      <td>18.3</td>\n",
       "      <td>No</td>\n",
       "      <td>No</td>\n",
       "    </tr>\n",
       "    <tr>\n",
       "      <th>4267</th>\n",
       "      <td>10.0</td>\n",
       "      <td>13.2</td>\n",
       "      <td>11.6</td>\n",
       "      <td>5.5</td>\n",
       "      <td>7.6</td>\n",
       "      <td>20.0</td>\n",
       "      <td>SW</td>\n",
       "      <td>SW</td>\n",
       "      <td>11.0</td>\n",
       "      <td>9.0</td>\n",
       "      <td>97.0</td>\n",
       "      <td>99.0</td>\n",
       "      <td>1023.2</td>\n",
       "      <td>1021.3</td>\n",
       "      <td>NaN</td>\n",
       "      <td>NaN</td>\n",
       "      <td>11.1</td>\n",
       "      <td>12.5</td>\n",
       "      <td>Yes</td>\n",
       "      <td>Yes</td>\n",
       "    </tr>\n",
       "    <tr>\n",
       "      <th>76864</th>\n",
       "      <td>11.5</td>\n",
       "      <td>15.4</td>\n",
       "      <td>1.2</td>\n",
       "      <td>1.6</td>\n",
       "      <td>4.9</td>\n",
       "      <td>43.0</td>\n",
       "      <td>WSW</td>\n",
       "      <td>WSW</td>\n",
       "      <td>22.0</td>\n",
       "      <td>26.0</td>\n",
       "      <td>88.0</td>\n",
       "      <td>85.0</td>\n",
       "      <td>1010.7</td>\n",
       "      <td>1014.0</td>\n",
       "      <td>8.0</td>\n",
       "      <td>8.0</td>\n",
       "      <td>13.2</td>\n",
       "      <td>13.4</td>\n",
       "      <td>Yes</td>\n",
       "      <td>No</td>\n",
       "    </tr>\n",
       "  </tbody>\n",
       "</table>\n",
       "</div>"
      ],
      "text/plain": [
       "       MinTemp  MaxTemp  Rainfall  Evaporation  Sunshine  WindGustSpeed  \\\n",
       "55592      9.4     23.5       0.2          5.5       7.6           46.0   \n",
       "48558     14.0     19.6       7.4          5.5       7.6           87.0   \n",
       "29123      0.1     18.9       0.0          5.5       7.6           22.0   \n",
       "4267      10.0     13.2      11.6          5.5       7.6           20.0   \n",
       "76864     11.5     15.4       1.2          1.6       4.9           43.0   \n",
       "\n",
       "      WindDir9am WindDir3pm  WindSpeed9am  WindSpeed3pm  Humidity9am  \\\n",
       "55592        NNE          N          28.0          24.0         56.0   \n",
       "48558          N        WNW          24.0          46.0         95.0   \n",
       "29123          S        ENE           2.0          13.0         88.0   \n",
       "4267          SW         SW          11.0           9.0         97.0   \n",
       "76864        WSW        WSW          22.0          26.0         88.0   \n",
       "\n",
       "       Humidity3pm  Pressure9am  Pressure3pm  Cloud9am  Cloud3pm  Temp9am  \\\n",
       "55592         46.0       1017.5       1014.4       2.0       3.0     17.6   \n",
       "48558         49.0       1001.3        996.7       8.0       NaN     16.8   \n",
       "29123         49.0       1032.7       1029.1       4.0       NaN      7.1   \n",
       "4267          99.0       1023.2       1021.3       NaN       NaN     11.1   \n",
       "76864         85.0       1010.7       1014.0       8.0       8.0     13.2   \n",
       "\n",
       "       Temp3pm RainToday RainTomorrow  \n",
       "55592     22.2        No           No  \n",
       "48558     19.3       Yes          Yes  \n",
       "29123     18.3        No           No  \n",
       "4267      12.5       Yes          Yes  \n",
       "76864     13.4       Yes           No  "
      ]
     },
     "execution_count": 30,
     "metadata": {},
     "output_type": "execute_result"
    }
   ],
   "source": [
    "df.head()"
   ]
  },
  {
   "cell_type": "code",
   "execution_count": 31,
   "id": "6f84ecaf",
   "metadata": {},
   "outputs": [
    {
     "data": {
      "text/plain": [
       "False    26277\n",
       "True      1896\n",
       "Name: WindGustSpeed, dtype: int64"
      ]
     },
     "execution_count": 31,
     "metadata": {},
     "output_type": "execute_result"
    }
   ],
   "source": [
    "df.WindGustSpeed.isnull().value_counts()"
   ]
  },
  {
   "cell_type": "code",
   "execution_count": 32,
   "id": "11415f2e",
   "metadata": {},
   "outputs": [],
   "source": [
    "df[\"WindGustSpeed\"].replace(np.nan,round(df['WindGustSpeed'].median(),0),inplace=True)"
   ]
  },
  {
   "cell_type": "code",
   "execution_count": 33,
   "id": "3982cae4",
   "metadata": {
    "scrolled": true
   },
   "outputs": [
    {
     "data": {
      "text/plain": [
       "False    26232\n",
       "True      1941\n",
       "Name: WindDir9am, dtype: int64"
      ]
     },
     "execution_count": 33,
     "metadata": {},
     "output_type": "execute_result"
    }
   ],
   "source": [
    "df.WindDir9am.isnull().value_counts()"
   ]
  },
  {
   "cell_type": "code",
   "execution_count": 34,
   "id": "5d35cacd",
   "metadata": {},
   "outputs": [
    {
     "data": {
      "text/plain": [
       "False    27959\n",
       "True       214\n",
       "Name: WindSpeed9am, dtype: int64"
      ]
     },
     "execution_count": 34,
     "metadata": {},
     "output_type": "execute_result"
    }
   ],
   "source": [
    "df.WindSpeed9am.isnull().value_counts()"
   ]
  },
  {
   "cell_type": "code",
   "execution_count": 35,
   "id": "d3834a3e",
   "metadata": {},
   "outputs": [],
   "source": [
    "df[\"WindSpeed9am\"].replace(np.nan,round(df['WindSpeed9am'].median(),0),inplace=True)"
   ]
  },
  {
   "cell_type": "code",
   "execution_count": 36,
   "id": "c738f87b",
   "metadata": {},
   "outputs": [
    {
     "data": {
      "text/plain": [
       "False    27620\n",
       "True       553\n",
       "Name: WindSpeed3pm, dtype: int64"
      ]
     },
     "execution_count": 36,
     "metadata": {},
     "output_type": "execute_result"
    }
   ],
   "source": [
    "df.WindSpeed3pm.isnull().value_counts()"
   ]
  },
  {
   "cell_type": "code",
   "execution_count": 37,
   "id": "8cc8661c",
   "metadata": {},
   "outputs": [],
   "source": [
    "df[\"WindSpeed3pm\"].replace(np.nan,round(df['WindSpeed3pm'].median(),0),inplace=True)"
   ]
  },
  {
   "cell_type": "code",
   "execution_count": 38,
   "id": "0e37247b",
   "metadata": {},
   "outputs": [
    {
     "data": {
      "text/plain": [
       "False    27854\n",
       "True       319\n",
       "Name: Humidity9am, dtype: int64"
      ]
     },
     "execution_count": 38,
     "metadata": {},
     "output_type": "execute_result"
    }
   ],
   "source": [
    "df.Humidity9am.isnull().value_counts()"
   ]
  },
  {
   "cell_type": "code",
   "execution_count": 39,
   "id": "b5735bc8",
   "metadata": {},
   "outputs": [],
   "source": [
    "df[\"Humidity9am\"].replace(np.nan,round(df['Humidity9am'].median(),0),inplace=True)"
   ]
  },
  {
   "cell_type": "code",
   "execution_count": 40,
   "id": "3c72607a",
   "metadata": {
    "scrolled": true
   },
   "outputs": [
    {
     "data": {
      "text/plain": [
       "False    27440\n",
       "True       733\n",
       "Name: Humidity3pm, dtype: int64"
      ]
     },
     "execution_count": 40,
     "metadata": {},
     "output_type": "execute_result"
    }
   ],
   "source": [
    "df.Humidity3pm.isnull().value_counts()"
   ]
  },
  {
   "cell_type": "code",
   "execution_count": 41,
   "id": "275d6150",
   "metadata": {},
   "outputs": [],
   "source": [
    "df[\"Humidity3pm\"].replace(np.nan,round(df['Humidity3pm'].median(),0),inplace=True)"
   ]
  },
  {
   "cell_type": "code",
   "execution_count": 42,
   "id": "656d7afe",
   "metadata": {},
   "outputs": [
    {
     "data": {
      "text/plain": [
       "False    25398\n",
       "True      2775\n",
       "Name: Pressure9am, dtype: int64"
      ]
     },
     "execution_count": 42,
     "metadata": {},
     "output_type": "execute_result"
    }
   ],
   "source": [
    "df.Pressure9am.isnull().value_counts()"
   ]
  },
  {
   "cell_type": "code",
   "execution_count": 43,
   "id": "31919aeb",
   "metadata": {},
   "outputs": [],
   "source": [
    "df[\"Pressure9am\"].replace(np.nan,round(df['Pressure9am'].mean(),1),inplace=True)"
   ]
  },
  {
   "cell_type": "code",
   "execution_count": 44,
   "id": "e73b2d46",
   "metadata": {},
   "outputs": [
    {
     "data": {
      "text/plain": [
       "False    25397\n",
       "True      2776\n",
       "Name: Pressure3pm, dtype: int64"
      ]
     },
     "execution_count": 44,
     "metadata": {},
     "output_type": "execute_result"
    }
   ],
   "source": [
    "df.Pressure3pm.isnull().value_counts()"
   ]
  },
  {
   "cell_type": "code",
   "execution_count": 45,
   "id": "0c287177",
   "metadata": {},
   "outputs": [],
   "source": [
    "df[\"Pressure3pm\"].replace(np.nan,round(df['Pressure3pm'].mean(),1),inplace=True)"
   ]
  },
  {
   "cell_type": "code",
   "execution_count": 46,
   "id": "5e1914b7",
   "metadata": {},
   "outputs": [
    {
     "data": {
      "text/plain": [
       "False    17589\n",
       "True     10584\n",
       "Name: Cloud9am, dtype: int64"
      ]
     },
     "execution_count": 46,
     "metadata": {},
     "output_type": "execute_result"
    }
   ],
   "source": [
    "df.Cloud9am.isnull().value_counts()"
   ]
  },
  {
   "cell_type": "code",
   "execution_count": 47,
   "id": "ca72b0ab",
   "metadata": {},
   "outputs": [
    {
     "data": {
      "text/plain": [
       "array([ 2.,  8.,  4., nan,  7.,  0.,  1.,  5.,  6.,  3.])"
      ]
     },
     "execution_count": 47,
     "metadata": {},
     "output_type": "execute_result"
    }
   ],
   "source": [
    "df.Cloud9am.unique()"
   ]
  },
  {
   "cell_type": "code",
   "execution_count": 48,
   "id": "0da3619c",
   "metadata": {},
   "outputs": [],
   "source": [
    "df[\"Cloud9am\"].replace(np.nan,round(df['Cloud9am'].median(),0),inplace=True)"
   ]
  },
  {
   "cell_type": "code",
   "execution_count": 49,
   "id": "d328249c",
   "metadata": {},
   "outputs": [
    {
     "data": {
      "text/plain": [
       "False    16872\n",
       "True     11301\n",
       "Name: Cloud3pm, dtype: int64"
      ]
     },
     "execution_count": 49,
     "metadata": {},
     "output_type": "execute_result"
    }
   ],
   "source": [
    "df.Cloud3pm.isnull().value_counts()"
   ]
  },
  {
   "cell_type": "code",
   "execution_count": 50,
   "id": "f5cae524",
   "metadata": {},
   "outputs": [
    {
     "data": {
      "text/plain": [
       "array([ 3., nan,  8.,  7.,  5.,  0.,  1.,  6.,  4.,  2.,  9.])"
      ]
     },
     "execution_count": 50,
     "metadata": {},
     "output_type": "execute_result"
    }
   ],
   "source": [
    "df.Cloud3pm.unique()"
   ]
  },
  {
   "cell_type": "code",
   "execution_count": 51,
   "id": "dda87ffd",
   "metadata": {},
   "outputs": [],
   "source": [
    "df[\"Cloud3pm\"].replace(np.nan,round(df['Cloud3pm'].median(),0),inplace=True)"
   ]
  },
  {
   "cell_type": "code",
   "execution_count": 52,
   "id": "4782cf0c",
   "metadata": {},
   "outputs": [
    {
     "data": {
      "text/plain": [
       "False    28024\n",
       "True       149\n",
       "Name: Temp9am, dtype: int64"
      ]
     },
     "execution_count": 52,
     "metadata": {},
     "output_type": "execute_result"
    }
   ],
   "source": [
    "df.Temp9am.isnull().value_counts()"
   ]
  },
  {
   "cell_type": "code",
   "execution_count": 53,
   "id": "25d3f4ae",
   "metadata": {},
   "outputs": [],
   "source": [
    "df[\"Temp9am\"].replace(np.nan,round(df['Temp9am'].mean(),1),inplace=True)"
   ]
  },
  {
   "cell_type": "code",
   "execution_count": 54,
   "id": "2c5cf949",
   "metadata": {},
   "outputs": [
    {
     "data": {
      "text/plain": [
       "False    27620\n",
       "True       553\n",
       "Name: Temp3pm, dtype: int64"
      ]
     },
     "execution_count": 54,
     "metadata": {},
     "output_type": "execute_result"
    }
   ],
   "source": [
    "df.Temp3pm.isnull().value_counts()"
   ]
  },
  {
   "cell_type": "code",
   "execution_count": 55,
   "id": "7deb4f59",
   "metadata": {},
   "outputs": [],
   "source": [
    "df[\"Temp3pm\"].replace(np.nan,round(df['Temp3pm'].mean(),1),inplace=True)"
   ]
  },
  {
   "cell_type": "code",
   "execution_count": 56,
   "id": "567b16d9",
   "metadata": {},
   "outputs": [
    {
     "data": {
      "text/plain": [
       "False    28173\n",
       "Name: RainToday, dtype: int64"
      ]
     },
     "execution_count": 56,
     "metadata": {},
     "output_type": "execute_result"
    }
   ],
   "source": [
    "df.RainToday.isnull().value_counts()"
   ]
  },
  {
   "cell_type": "code",
   "execution_count": 57,
   "id": "69f5f8e6",
   "metadata": {},
   "outputs": [
    {
     "data": {
      "text/plain": [
       "False    28173\n",
       "Name: RainTomorrow, dtype: int64"
      ]
     },
     "execution_count": 57,
     "metadata": {},
     "output_type": "execute_result"
    }
   ],
   "source": [
    "df.RainTomorrow.isnull().value_counts()"
   ]
  },
  {
   "cell_type": "markdown",
   "id": "0e3dc6fc",
   "metadata": {},
   "source": [
    "<b size = \"3\"> <u>CREATING MAPPINGS FOR RAIN TODAY AND TOMORROW</u></b>"
   ]
  },
  {
   "cell_type": "markdown",
   "id": "f0d72405",
   "metadata": {},
   "source": [
    "<b size=\"3\">In statistical models, while converting any variables to a map, in general, we give 0 to the lower occuring value and 1 for the highest occuring value. however, for analysis, people would observe 0 --> No and 1 --> Yes. Thus, I have assigned 0 as No and 1 as yes for RainToday and RainTomorrow columns</b>"
   ]
  },
  {
   "cell_type": "code",
   "execution_count": 58,
   "id": "335b5517",
   "metadata": {},
   "outputs": [
    {
     "data": {
      "text/plain": [
       "No     21880\n",
       "Yes     6293\n",
       "Name: RainToday, dtype: int64"
      ]
     },
     "execution_count": 58,
     "metadata": {},
     "output_type": "execute_result"
    }
   ],
   "source": [
    "df.RainToday.value_counts()"
   ]
  },
  {
   "cell_type": "code",
   "execution_count": 59,
   "id": "2b250745",
   "metadata": {},
   "outputs": [],
   "source": [
    "df[\"RainToday\"]=df[\"RainToday\"].map({\"No\":0,\"Yes\":1}).astype(int)"
   ]
  },
  {
   "cell_type": "code",
   "execution_count": 60,
   "id": "e4b9c3d9",
   "metadata": {},
   "outputs": [],
   "source": [
    "df[\"RainTomorrow\"]=df[\"RainTomorrow\"].map({\"No\":0,\"Yes\":1}).astype(int)"
   ]
  },
  {
   "cell_type": "code",
   "execution_count": 61,
   "id": "06bef6b4",
   "metadata": {
    "scrolled": true
   },
   "outputs": [
    {
     "data": {
      "text/plain": [
       "0    21880\n",
       "1     6293\n",
       "Name: RainToday, dtype: int64"
      ]
     },
     "execution_count": 61,
     "metadata": {},
     "output_type": "execute_result"
    }
   ],
   "source": [
    "df.RainToday.value_counts()"
   ]
  },
  {
   "cell_type": "code",
   "execution_count": 62,
   "id": "191a54d2",
   "metadata": {},
   "outputs": [
    {
     "data": {
      "text/plain": [
       "0    21872\n",
       "1     6301\n",
       "Name: RainTomorrow, dtype: int64"
      ]
     },
     "execution_count": 62,
     "metadata": {},
     "output_type": "execute_result"
    }
   ],
   "source": [
    "df.RainTomorrow.value_counts()"
   ]
  },
  {
   "cell_type": "code",
   "execution_count": 63,
   "id": "31fbf00b",
   "metadata": {},
   "outputs": [
    {
     "data": {
      "text/html": [
       "<div>\n",
       "<style scoped>\n",
       "    .dataframe tbody tr th:only-of-type {\n",
       "        vertical-align: middle;\n",
       "    }\n",
       "\n",
       "    .dataframe tbody tr th {\n",
       "        vertical-align: top;\n",
       "    }\n",
       "\n",
       "    .dataframe thead th {\n",
       "        text-align: right;\n",
       "    }\n",
       "</style>\n",
       "<table border=\"1\" class=\"dataframe\">\n",
       "  <thead>\n",
       "    <tr style=\"text-align: right;\">\n",
       "      <th></th>\n",
       "      <th>MinTemp</th>\n",
       "      <th>MaxTemp</th>\n",
       "      <th>Rainfall</th>\n",
       "      <th>Evaporation</th>\n",
       "      <th>Sunshine</th>\n",
       "      <th>WindGustSpeed</th>\n",
       "      <th>WindDir9am</th>\n",
       "      <th>WindDir3pm</th>\n",
       "      <th>WindSpeed9am</th>\n",
       "      <th>WindSpeed3pm</th>\n",
       "      <th>Humidity9am</th>\n",
       "      <th>Humidity3pm</th>\n",
       "      <th>Pressure9am</th>\n",
       "      <th>Pressure3pm</th>\n",
       "      <th>Cloud9am</th>\n",
       "      <th>Cloud3pm</th>\n",
       "      <th>Temp9am</th>\n",
       "      <th>Temp3pm</th>\n",
       "      <th>RainToday</th>\n",
       "      <th>RainTomorrow</th>\n",
       "    </tr>\n",
       "  </thead>\n",
       "  <tbody>\n",
       "    <tr>\n",
       "      <th>55592</th>\n",
       "      <td>9.4</td>\n",
       "      <td>23.5</td>\n",
       "      <td>0.2</td>\n",
       "      <td>5.5</td>\n",
       "      <td>7.6</td>\n",
       "      <td>46.0</td>\n",
       "      <td>NNE</td>\n",
       "      <td>N</td>\n",
       "      <td>28.0</td>\n",
       "      <td>24.0</td>\n",
       "      <td>56.0</td>\n",
       "      <td>46.0</td>\n",
       "      <td>1017.5</td>\n",
       "      <td>1014.4</td>\n",
       "      <td>2.0</td>\n",
       "      <td>3.0</td>\n",
       "      <td>17.6</td>\n",
       "      <td>22.2</td>\n",
       "      <td>0</td>\n",
       "      <td>0</td>\n",
       "    </tr>\n",
       "    <tr>\n",
       "      <th>48558</th>\n",
       "      <td>14.0</td>\n",
       "      <td>19.6</td>\n",
       "      <td>7.4</td>\n",
       "      <td>5.5</td>\n",
       "      <td>7.6</td>\n",
       "      <td>87.0</td>\n",
       "      <td>N</td>\n",
       "      <td>WNW</td>\n",
       "      <td>24.0</td>\n",
       "      <td>46.0</td>\n",
       "      <td>95.0</td>\n",
       "      <td>49.0</td>\n",
       "      <td>1001.3</td>\n",
       "      <td>996.7</td>\n",
       "      <td>8.0</td>\n",
       "      <td>5.0</td>\n",
       "      <td>16.8</td>\n",
       "      <td>19.3</td>\n",
       "      <td>1</td>\n",
       "      <td>1</td>\n",
       "    </tr>\n",
       "    <tr>\n",
       "      <th>29123</th>\n",
       "      <td>0.1</td>\n",
       "      <td>18.9</td>\n",
       "      <td>0.0</td>\n",
       "      <td>5.5</td>\n",
       "      <td>7.6</td>\n",
       "      <td>22.0</td>\n",
       "      <td>S</td>\n",
       "      <td>ENE</td>\n",
       "      <td>2.0</td>\n",
       "      <td>13.0</td>\n",
       "      <td>88.0</td>\n",
       "      <td>49.0</td>\n",
       "      <td>1032.7</td>\n",
       "      <td>1029.1</td>\n",
       "      <td>4.0</td>\n",
       "      <td>5.0</td>\n",
       "      <td>7.1</td>\n",
       "      <td>18.3</td>\n",
       "      <td>0</td>\n",
       "      <td>0</td>\n",
       "    </tr>\n",
       "    <tr>\n",
       "      <th>4267</th>\n",
       "      <td>10.0</td>\n",
       "      <td>13.2</td>\n",
       "      <td>11.6</td>\n",
       "      <td>5.5</td>\n",
       "      <td>7.6</td>\n",
       "      <td>20.0</td>\n",
       "      <td>SW</td>\n",
       "      <td>SW</td>\n",
       "      <td>11.0</td>\n",
       "      <td>9.0</td>\n",
       "      <td>97.0</td>\n",
       "      <td>99.0</td>\n",
       "      <td>1023.2</td>\n",
       "      <td>1021.3</td>\n",
       "      <td>5.0</td>\n",
       "      <td>5.0</td>\n",
       "      <td>11.1</td>\n",
       "      <td>12.5</td>\n",
       "      <td>1</td>\n",
       "      <td>1</td>\n",
       "    </tr>\n",
       "    <tr>\n",
       "      <th>76864</th>\n",
       "      <td>11.5</td>\n",
       "      <td>15.4</td>\n",
       "      <td>1.2</td>\n",
       "      <td>1.6</td>\n",
       "      <td>4.9</td>\n",
       "      <td>43.0</td>\n",
       "      <td>WSW</td>\n",
       "      <td>WSW</td>\n",
       "      <td>22.0</td>\n",
       "      <td>26.0</td>\n",
       "      <td>88.0</td>\n",
       "      <td>85.0</td>\n",
       "      <td>1010.7</td>\n",
       "      <td>1014.0</td>\n",
       "      <td>8.0</td>\n",
       "      <td>8.0</td>\n",
       "      <td>13.2</td>\n",
       "      <td>13.4</td>\n",
       "      <td>1</td>\n",
       "      <td>0</td>\n",
       "    </tr>\n",
       "  </tbody>\n",
       "</table>\n",
       "</div>"
      ],
      "text/plain": [
       "       MinTemp  MaxTemp  Rainfall  Evaporation  Sunshine  WindGustSpeed  \\\n",
       "55592      9.4     23.5       0.2          5.5       7.6           46.0   \n",
       "48558     14.0     19.6       7.4          5.5       7.6           87.0   \n",
       "29123      0.1     18.9       0.0          5.5       7.6           22.0   \n",
       "4267      10.0     13.2      11.6          5.5       7.6           20.0   \n",
       "76864     11.5     15.4       1.2          1.6       4.9           43.0   \n",
       "\n",
       "      WindDir9am WindDir3pm  WindSpeed9am  WindSpeed3pm  Humidity9am  \\\n",
       "55592        NNE          N          28.0          24.0         56.0   \n",
       "48558          N        WNW          24.0          46.0         95.0   \n",
       "29123          S        ENE           2.0          13.0         88.0   \n",
       "4267          SW         SW          11.0           9.0         97.0   \n",
       "76864        WSW        WSW          22.0          26.0         88.0   \n",
       "\n",
       "       Humidity3pm  Pressure9am  Pressure3pm  Cloud9am  Cloud3pm  Temp9am  \\\n",
       "55592         46.0       1017.5       1014.4       2.0       3.0     17.6   \n",
       "48558         49.0       1001.3        996.7       8.0       5.0     16.8   \n",
       "29123         49.0       1032.7       1029.1       4.0       5.0      7.1   \n",
       "4267          99.0       1023.2       1021.3       5.0       5.0     11.1   \n",
       "76864         85.0       1010.7       1014.0       8.0       8.0     13.2   \n",
       "\n",
       "       Temp3pm  RainToday  RainTomorrow  \n",
       "55592     22.2          0             0  \n",
       "48558     19.3          1             1  \n",
       "29123     18.3          0             0  \n",
       "4267      12.5          1             1  \n",
       "76864     13.4          1             0  "
      ]
     },
     "execution_count": 63,
     "metadata": {},
     "output_type": "execute_result"
    }
   ],
   "source": [
    "df.head()"
   ]
  },
  {
   "cell_type": "code",
   "execution_count": 64,
   "id": "ca83229b",
   "metadata": {},
   "outputs": [
    {
     "data": {
      "text/plain": [
       "array(['NNE', 'N', 'S', 'SW', 'WSW', 'SE', 'ESE', 'NE', 'NNW', 'SSE', nan,\n",
       "       'W', 'SSW', 'ENE', 'NW', 'WNW', 'E'], dtype=object)"
      ]
     },
     "execution_count": 64,
     "metadata": {},
     "output_type": "execute_result"
    }
   ],
   "source": [
    "df.WindDir9am.unique()"
   ]
  },
  {
   "cell_type": "code",
   "execution_count": 65,
   "id": "4b748622",
   "metadata": {},
   "outputs": [
    {
     "data": {
      "text/plain": [
       "array(['N', 'WNW', 'ENE', 'SW', 'WSW', 'ESE', 'E', 'W', 'NNW', 'SE',\n",
       "       'NNE', 'SSW', 'SSE', 'NW', 'S', 'NE', nan], dtype=object)"
      ]
     },
     "execution_count": 65,
     "metadata": {},
     "output_type": "execute_result"
    }
   ],
   "source": [
    "df.WindDir3pm.unique()"
   ]
  },
  {
   "cell_type": "code",
   "execution_count": 66,
   "id": "d37c7e3d",
   "metadata": {},
   "outputs": [
    {
     "data": {
      "text/html": [
       "<div>\n",
       "<style scoped>\n",
       "    .dataframe tbody tr th:only-of-type {\n",
       "        vertical-align: middle;\n",
       "    }\n",
       "\n",
       "    .dataframe tbody tr th {\n",
       "        vertical-align: top;\n",
       "    }\n",
       "\n",
       "    .dataframe thead th {\n",
       "        text-align: right;\n",
       "    }\n",
       "</style>\n",
       "<table border=\"1\" class=\"dataframe\">\n",
       "  <thead>\n",
       "    <tr style=\"text-align: right;\">\n",
       "      <th></th>\n",
       "      <th>MinTemp</th>\n",
       "      <th>MaxTemp</th>\n",
       "      <th>Rainfall</th>\n",
       "      <th>Evaporation</th>\n",
       "      <th>Sunshine</th>\n",
       "      <th>WindGustSpeed</th>\n",
       "      <th>WindDir9am</th>\n",
       "      <th>WindDir3pm</th>\n",
       "      <th>WindSpeed9am</th>\n",
       "      <th>WindSpeed3pm</th>\n",
       "      <th>Humidity9am</th>\n",
       "      <th>Humidity3pm</th>\n",
       "      <th>Pressure9am</th>\n",
       "      <th>Pressure3pm</th>\n",
       "      <th>Cloud9am</th>\n",
       "      <th>Cloud3pm</th>\n",
       "      <th>Temp9am</th>\n",
       "      <th>Temp3pm</th>\n",
       "      <th>RainToday</th>\n",
       "      <th>RainTomorrow</th>\n",
       "    </tr>\n",
       "  </thead>\n",
       "  <tbody>\n",
       "    <tr>\n",
       "      <th>55592</th>\n",
       "      <td>9.4</td>\n",
       "      <td>23.5</td>\n",
       "      <td>0.2</td>\n",
       "      <td>5.5</td>\n",
       "      <td>7.6</td>\n",
       "      <td>46.0</td>\n",
       "      <td>NNE</td>\n",
       "      <td>N</td>\n",
       "      <td>28.0</td>\n",
       "      <td>24.0</td>\n",
       "      <td>56.0</td>\n",
       "      <td>46.0</td>\n",
       "      <td>1017.5</td>\n",
       "      <td>1014.4</td>\n",
       "      <td>2.0</td>\n",
       "      <td>3.0</td>\n",
       "      <td>17.6</td>\n",
       "      <td>22.2</td>\n",
       "      <td>0</td>\n",
       "      <td>0</td>\n",
       "    </tr>\n",
       "    <tr>\n",
       "      <th>48558</th>\n",
       "      <td>14.0</td>\n",
       "      <td>19.6</td>\n",
       "      <td>7.4</td>\n",
       "      <td>5.5</td>\n",
       "      <td>7.6</td>\n",
       "      <td>87.0</td>\n",
       "      <td>N</td>\n",
       "      <td>WNW</td>\n",
       "      <td>24.0</td>\n",
       "      <td>46.0</td>\n",
       "      <td>95.0</td>\n",
       "      <td>49.0</td>\n",
       "      <td>1001.3</td>\n",
       "      <td>996.7</td>\n",
       "      <td>8.0</td>\n",
       "      <td>5.0</td>\n",
       "      <td>16.8</td>\n",
       "      <td>19.3</td>\n",
       "      <td>1</td>\n",
       "      <td>1</td>\n",
       "    </tr>\n",
       "    <tr>\n",
       "      <th>29123</th>\n",
       "      <td>0.1</td>\n",
       "      <td>18.9</td>\n",
       "      <td>0.0</td>\n",
       "      <td>5.5</td>\n",
       "      <td>7.6</td>\n",
       "      <td>22.0</td>\n",
       "      <td>S</td>\n",
       "      <td>ENE</td>\n",
       "      <td>2.0</td>\n",
       "      <td>13.0</td>\n",
       "      <td>88.0</td>\n",
       "      <td>49.0</td>\n",
       "      <td>1032.7</td>\n",
       "      <td>1029.1</td>\n",
       "      <td>4.0</td>\n",
       "      <td>5.0</td>\n",
       "      <td>7.1</td>\n",
       "      <td>18.3</td>\n",
       "      <td>0</td>\n",
       "      <td>0</td>\n",
       "    </tr>\n",
       "    <tr>\n",
       "      <th>4267</th>\n",
       "      <td>10.0</td>\n",
       "      <td>13.2</td>\n",
       "      <td>11.6</td>\n",
       "      <td>5.5</td>\n",
       "      <td>7.6</td>\n",
       "      <td>20.0</td>\n",
       "      <td>SW</td>\n",
       "      <td>SW</td>\n",
       "      <td>11.0</td>\n",
       "      <td>9.0</td>\n",
       "      <td>97.0</td>\n",
       "      <td>99.0</td>\n",
       "      <td>1023.2</td>\n",
       "      <td>1021.3</td>\n",
       "      <td>5.0</td>\n",
       "      <td>5.0</td>\n",
       "      <td>11.1</td>\n",
       "      <td>12.5</td>\n",
       "      <td>1</td>\n",
       "      <td>1</td>\n",
       "    </tr>\n",
       "    <tr>\n",
       "      <th>76864</th>\n",
       "      <td>11.5</td>\n",
       "      <td>15.4</td>\n",
       "      <td>1.2</td>\n",
       "      <td>1.6</td>\n",
       "      <td>4.9</td>\n",
       "      <td>43.0</td>\n",
       "      <td>WSW</td>\n",
       "      <td>WSW</td>\n",
       "      <td>22.0</td>\n",
       "      <td>26.0</td>\n",
       "      <td>88.0</td>\n",
       "      <td>85.0</td>\n",
       "      <td>1010.7</td>\n",
       "      <td>1014.0</td>\n",
       "      <td>8.0</td>\n",
       "      <td>8.0</td>\n",
       "      <td>13.2</td>\n",
       "      <td>13.4</td>\n",
       "      <td>1</td>\n",
       "      <td>0</td>\n",
       "    </tr>\n",
       "  </tbody>\n",
       "</table>\n",
       "</div>"
      ],
      "text/plain": [
       "       MinTemp  MaxTemp  Rainfall  Evaporation  Sunshine  WindGustSpeed  \\\n",
       "55592      9.4     23.5       0.2          5.5       7.6           46.0   \n",
       "48558     14.0     19.6       7.4          5.5       7.6           87.0   \n",
       "29123      0.1     18.9       0.0          5.5       7.6           22.0   \n",
       "4267      10.0     13.2      11.6          5.5       7.6           20.0   \n",
       "76864     11.5     15.4       1.2          1.6       4.9           43.0   \n",
       "\n",
       "      WindDir9am WindDir3pm  WindSpeed9am  WindSpeed3pm  Humidity9am  \\\n",
       "55592        NNE          N          28.0          24.0         56.0   \n",
       "48558          N        WNW          24.0          46.0         95.0   \n",
       "29123          S        ENE           2.0          13.0         88.0   \n",
       "4267          SW         SW          11.0           9.0         97.0   \n",
       "76864        WSW        WSW          22.0          26.0         88.0   \n",
       "\n",
       "       Humidity3pm  Pressure9am  Pressure3pm  Cloud9am  Cloud3pm  Temp9am  \\\n",
       "55592         46.0       1017.5       1014.4       2.0       3.0     17.6   \n",
       "48558         49.0       1001.3        996.7       8.0       5.0     16.8   \n",
       "29123         49.0       1032.7       1029.1       4.0       5.0      7.1   \n",
       "4267          99.0       1023.2       1021.3       5.0       5.0     11.1   \n",
       "76864         85.0       1010.7       1014.0       8.0       8.0     13.2   \n",
       "\n",
       "       Temp3pm  RainToday  RainTomorrow  \n",
       "55592     22.2          0             0  \n",
       "48558     19.3          1             1  \n",
       "29123     18.3          0             0  \n",
       "4267      12.5          1             1  \n",
       "76864     13.4          1             0  "
      ]
     },
     "execution_count": 66,
     "metadata": {},
     "output_type": "execute_result"
    }
   ],
   "source": [
    "df.head()"
   ]
  },
  {
   "cell_type": "code",
   "execution_count": 67,
   "id": "420a27c8",
   "metadata": {
    "scrolled": true
   },
   "outputs": [
    {
     "name": "stdout",
     "output_type": "stream",
     "text": [
      "N      2203\n",
      "SE     1814\n",
      "E      1763\n",
      "SSE    1753\n",
      "W      1738\n",
      "S      1693\n",
      "NW     1653\n",
      "ENE    1633\n",
      "NNE    1615\n",
      "SW     1584\n",
      "NNW    1577\n",
      "SSW    1478\n",
      "ESE    1476\n",
      "NE     1442\n",
      "WNW    1414\n",
      "WSW    1396\n",
      "Name: WindDir9am, dtype: int64\n",
      "SE     2128\n",
      "W      2003\n",
      "S      1880\n",
      "WSW    1872\n",
      "SSE    1832\n",
      "SW     1814\n",
      "WNW    1734\n",
      "N      1715\n",
      "NW     1684\n",
      "E      1682\n",
      "SSW    1590\n",
      "NNW    1574\n",
      "ESE    1570\n",
      "NE     1568\n",
      "ENE    1486\n",
      "NNE    1249\n",
      "Name: WindDir3pm, dtype: int64\n"
     ]
    }
   ],
   "source": [
    "print(df.WindDir9am.value_counts())\n",
    "print(df.WindDir3pm.value_counts())\n"
   ]
  },
  {
   "cell_type": "markdown",
   "id": "d21b7c21",
   "metadata": {},
   "source": [
    "<b size=\"3\">Based on the above output, we can see the unique values for WindDir9am and WindDir3pm columns. Thus if I perform a one-hot vector encoding for these columns, it will generate many columns, and thus I am removing observations having the below values in these columns</b>"
   ]
  },
  {
   "cell_type": "code",
   "execution_count": 68,
   "id": "766be46b",
   "metadata": {},
   "outputs": [],
   "source": [
    "windDir = ['SSE','NNE','NNW','ENE','SSW','ESE','WNW','WSW']\n",
    "\n",
    "df = df[~df.WindDir9am.isin(windDir)]\n",
    "\n",
    "df = df[~df.WindDir3pm.isin(windDir)]"
   ]
  },
  {
   "cell_type": "code",
   "execution_count": 69,
   "id": "2861e0ba",
   "metadata": {},
   "outputs": [
    {
     "data": {
      "text/plain": [
       "8805"
      ]
     },
     "execution_count": 69,
     "metadata": {},
     "output_type": "execute_result"
    }
   ],
   "source": [
    "len(df)"
   ]
  },
  {
   "cell_type": "code",
   "execution_count": 70,
   "id": "25888e44",
   "metadata": {},
   "outputs": [
    {
     "data": {
      "text/html": [
       "<div>\n",
       "<style scoped>\n",
       "    .dataframe tbody tr th:only-of-type {\n",
       "        vertical-align: middle;\n",
       "    }\n",
       "\n",
       "    .dataframe tbody tr th {\n",
       "        vertical-align: top;\n",
       "    }\n",
       "\n",
       "    .dataframe thead th {\n",
       "        text-align: right;\n",
       "    }\n",
       "</style>\n",
       "<table border=\"1\" class=\"dataframe\">\n",
       "  <thead>\n",
       "    <tr style=\"text-align: right;\">\n",
       "      <th></th>\n",
       "      <th>MinTemp</th>\n",
       "      <th>MaxTemp</th>\n",
       "      <th>Rainfall</th>\n",
       "      <th>Evaporation</th>\n",
       "      <th>Sunshine</th>\n",
       "      <th>WindGustSpeed</th>\n",
       "      <th>WindDir9am</th>\n",
       "      <th>WindDir3pm</th>\n",
       "      <th>WindSpeed9am</th>\n",
       "      <th>WindSpeed3pm</th>\n",
       "      <th>Humidity9am</th>\n",
       "      <th>Humidity3pm</th>\n",
       "      <th>Pressure9am</th>\n",
       "      <th>Pressure3pm</th>\n",
       "      <th>Cloud9am</th>\n",
       "      <th>Cloud3pm</th>\n",
       "      <th>Temp9am</th>\n",
       "      <th>Temp3pm</th>\n",
       "      <th>RainToday</th>\n",
       "      <th>RainTomorrow</th>\n",
       "    </tr>\n",
       "  </thead>\n",
       "  <tbody>\n",
       "    <tr>\n",
       "      <th>4267</th>\n",
       "      <td>10.0</td>\n",
       "      <td>13.2</td>\n",
       "      <td>11.6</td>\n",
       "      <td>5.5</td>\n",
       "      <td>7.6</td>\n",
       "      <td>20.0</td>\n",
       "      <td>SW</td>\n",
       "      <td>SW</td>\n",
       "      <td>11.0</td>\n",
       "      <td>9.0</td>\n",
       "      <td>97.0</td>\n",
       "      <td>99.0</td>\n",
       "      <td>1023.2</td>\n",
       "      <td>1021.3</td>\n",
       "      <td>5.0</td>\n",
       "      <td>5.0</td>\n",
       "      <td>11.1</td>\n",
       "      <td>12.5</td>\n",
       "      <td>1</td>\n",
       "      <td>1</td>\n",
       "    </tr>\n",
       "    <tr>\n",
       "      <th>36534</th>\n",
       "      <td>12.5</td>\n",
       "      <td>39.1</td>\n",
       "      <td>0.0</td>\n",
       "      <td>13.0</td>\n",
       "      <td>13.6</td>\n",
       "      <td>72.0</td>\n",
       "      <td>NE</td>\n",
       "      <td>W</td>\n",
       "      <td>6.0</td>\n",
       "      <td>30.0</td>\n",
       "      <td>23.0</td>\n",
       "      <td>3.0</td>\n",
       "      <td>1011.4</td>\n",
       "      <td>1007.4</td>\n",
       "      <td>0.0</td>\n",
       "      <td>0.0</td>\n",
       "      <td>25.8</td>\n",
       "      <td>37.4</td>\n",
       "      <td>0</td>\n",
       "      <td>0</td>\n",
       "    </tr>\n",
       "    <tr>\n",
       "      <th>132540</th>\n",
       "      <td>11.2</td>\n",
       "      <td>22.0</td>\n",
       "      <td>0.0</td>\n",
       "      <td>6.2</td>\n",
       "      <td>12.3</td>\n",
       "      <td>31.0</td>\n",
       "      <td>N</td>\n",
       "      <td>SE</td>\n",
       "      <td>9.0</td>\n",
       "      <td>20.0</td>\n",
       "      <td>65.0</td>\n",
       "      <td>58.0</td>\n",
       "      <td>1027.0</td>\n",
       "      <td>1024.5</td>\n",
       "      <td>1.0</td>\n",
       "      <td>1.0</td>\n",
       "      <td>16.0</td>\n",
       "      <td>21.1</td>\n",
       "      <td>0</td>\n",
       "      <td>0</td>\n",
       "    </tr>\n",
       "    <tr>\n",
       "      <th>22850</th>\n",
       "      <td>18.3</td>\n",
       "      <td>23.1</td>\n",
       "      <td>0.0</td>\n",
       "      <td>5.6</td>\n",
       "      <td>2.9</td>\n",
       "      <td>35.0</td>\n",
       "      <td>SE</td>\n",
       "      <td>SE</td>\n",
       "      <td>19.0</td>\n",
       "      <td>20.0</td>\n",
       "      <td>88.0</td>\n",
       "      <td>67.0</td>\n",
       "      <td>1014.0</td>\n",
       "      <td>1012.4</td>\n",
       "      <td>7.0</td>\n",
       "      <td>7.0</td>\n",
       "      <td>20.4</td>\n",
       "      <td>22.1</td>\n",
       "      <td>0</td>\n",
       "      <td>0</td>\n",
       "    </tr>\n",
       "    <tr>\n",
       "      <th>65544</th>\n",
       "      <td>10.8</td>\n",
       "      <td>26.6</td>\n",
       "      <td>0.0</td>\n",
       "      <td>7.2</td>\n",
       "      <td>1.8</td>\n",
       "      <td>76.0</td>\n",
       "      <td>N</td>\n",
       "      <td>N</td>\n",
       "      <td>52.0</td>\n",
       "      <td>43.0</td>\n",
       "      <td>51.0</td>\n",
       "      <td>36.0</td>\n",
       "      <td>1017.9</td>\n",
       "      <td>1014.3</td>\n",
       "      <td>7.0</td>\n",
       "      <td>6.0</td>\n",
       "      <td>16.2</td>\n",
       "      <td>23.8</td>\n",
       "      <td>0</td>\n",
       "      <td>0</td>\n",
       "    </tr>\n",
       "  </tbody>\n",
       "</table>\n",
       "</div>"
      ],
      "text/plain": [
       "        MinTemp  MaxTemp  Rainfall  Evaporation  Sunshine  WindGustSpeed  \\\n",
       "4267       10.0     13.2      11.6          5.5       7.6           20.0   \n",
       "36534      12.5     39.1       0.0         13.0      13.6           72.0   \n",
       "132540     11.2     22.0       0.0          6.2      12.3           31.0   \n",
       "22850      18.3     23.1       0.0          5.6       2.9           35.0   \n",
       "65544      10.8     26.6       0.0          7.2       1.8           76.0   \n",
       "\n",
       "       WindDir9am WindDir3pm  WindSpeed9am  WindSpeed3pm  Humidity9am  \\\n",
       "4267           SW         SW          11.0           9.0         97.0   \n",
       "36534          NE          W           6.0          30.0         23.0   \n",
       "132540          N         SE           9.0          20.0         65.0   \n",
       "22850          SE         SE          19.0          20.0         88.0   \n",
       "65544           N          N          52.0          43.0         51.0   \n",
       "\n",
       "        Humidity3pm  Pressure9am  Pressure3pm  Cloud9am  Cloud3pm  Temp9am  \\\n",
       "4267           99.0       1023.2       1021.3       5.0       5.0     11.1   \n",
       "36534           3.0       1011.4       1007.4       0.0       0.0     25.8   \n",
       "132540         58.0       1027.0       1024.5       1.0       1.0     16.0   \n",
       "22850          67.0       1014.0       1012.4       7.0       7.0     20.4   \n",
       "65544          36.0       1017.9       1014.3       7.0       6.0     16.2   \n",
       "\n",
       "        Temp3pm  RainToday  RainTomorrow  \n",
       "4267       12.5          1             1  \n",
       "36534      37.4          0             0  \n",
       "132540     21.1          0             0  \n",
       "22850      22.1          0             0  \n",
       "65544      23.8          0             0  "
      ]
     },
     "execution_count": 70,
     "metadata": {},
     "output_type": "execute_result"
    }
   ],
   "source": [
    "df.head()"
   ]
  },
  {
   "cell_type": "code",
   "execution_count": 71,
   "id": "57f9d198",
   "metadata": {},
   "outputs": [
    {
     "name": "stdout",
     "output_type": "stream",
     "text": [
      "<class 'pandas.core.frame.DataFrame'>\n",
      "Int64Index: 8805 entries, 4267 to 103071\n",
      "Data columns (total 20 columns):\n",
      " #   Column         Non-Null Count  Dtype  \n",
      "---  ------         --------------  -----  \n",
      " 0   MinTemp        8805 non-null   float64\n",
      " 1   MaxTemp        8805 non-null   float64\n",
      " 2   Rainfall       8805 non-null   float64\n",
      " 3   Evaporation    8805 non-null   float64\n",
      " 4   Sunshine       8805 non-null   float64\n",
      " 5   WindGustSpeed  8805 non-null   float64\n",
      " 6   WindDir9am     7532 non-null   object \n",
      " 7   WindDir3pm     8161 non-null   object \n",
      " 8   WindSpeed9am   8805 non-null   float64\n",
      " 9   WindSpeed3pm   8805 non-null   float64\n",
      " 10  Humidity9am    8805 non-null   float64\n",
      " 11  Humidity3pm    8805 non-null   float64\n",
      " 12  Pressure9am    8805 non-null   float64\n",
      " 13  Pressure3pm    8805 non-null   float64\n",
      " 14  Cloud9am       8805 non-null   float64\n",
      " 15  Cloud3pm       8805 non-null   float64\n",
      " 16  Temp9am        8805 non-null   float64\n",
      " 17  Temp3pm        8805 non-null   float64\n",
      " 18  RainToday      8805 non-null   int32  \n",
      " 19  RainTomorrow   8805 non-null   int32  \n",
      "dtypes: float64(16), int32(2), object(2)\n",
      "memory usage: 1.3+ MB\n"
     ]
    }
   ],
   "source": [
    "df.info()"
   ]
  },
  {
   "cell_type": "markdown",
   "id": "fe2fdb63",
   "metadata": {},
   "source": [
    "<b size=\"3\"><u>Mode Imputation:</u></b><br>\n",
    "Here, I am replacing all missing values for WindDir9am and WindDir3pm features with highest occuring values for those features.   "
   ]
  },
  {
   "cell_type": "code",
   "execution_count": 72,
   "id": "cb8bfca8",
   "metadata": {},
   "outputs": [
    {
     "data": {
      "text/plain": [
       "N     2517\n",
       "SE     989\n",
       "W      945\n",
       "E      935\n",
       "NW     916\n",
       "S      871\n",
       "SW     845\n",
       "NE     787\n",
       "Name: WindDir9am, dtype: int64"
      ]
     },
     "execution_count": 72,
     "metadata": {},
     "output_type": "execute_result"
    }
   ],
   "source": [
    "df['WindDir9am'].fillna(df['WindDir9am'].mode()[0], inplace = True)\n",
    "df['WindDir9am'].value_counts()"
   ]
  },
  {
   "cell_type": "code",
   "execution_count": 73,
   "id": "76aef8cf",
   "metadata": {},
   "outputs": [
    {
     "data": {
      "text/plain": [
       "SE    1843\n",
       "W     1124\n",
       "S     1046\n",
       "N     1002\n",
       "NW     996\n",
       "SW     984\n",
       "E      910\n",
       "NE     900\n",
       "Name: WindDir3pm, dtype: int64"
      ]
     },
     "execution_count": 73,
     "metadata": {},
     "output_type": "execute_result"
    }
   ],
   "source": [
    "df['WindDir3pm'].fillna(df['WindDir3pm'].mode()[0], inplace = True)\n",
    "df['WindDir3pm'].value_counts()"
   ]
  },
  {
   "cell_type": "markdown",
   "id": "1f3167a9",
   "metadata": {},
   "source": [
    "<b size = \"3\"><u>ONE-HOT VECTOR ENCODING</u></b>"
   ]
  },
  {
   "cell_type": "markdown",
   "id": "1f4dbf69",
   "metadata": {},
   "source": [
    "Now performing the one-hot vector encoding for WindDir9am and WindDir3pm features"
   ]
  },
  {
   "cell_type": "code",
   "execution_count": 74,
   "id": "c97fca8b",
   "metadata": {},
   "outputs": [
    {
     "data": {
      "text/html": [
       "<div>\n",
       "<style scoped>\n",
       "    .dataframe tbody tr th:only-of-type {\n",
       "        vertical-align: middle;\n",
       "    }\n",
       "\n",
       "    .dataframe tbody tr th {\n",
       "        vertical-align: top;\n",
       "    }\n",
       "\n",
       "    .dataframe thead th {\n",
       "        text-align: right;\n",
       "    }\n",
       "</style>\n",
       "<table border=\"1\" class=\"dataframe\">\n",
       "  <thead>\n",
       "    <tr style=\"text-align: right;\">\n",
       "      <th></th>\n",
       "      <th>MinTemp</th>\n",
       "      <th>MaxTemp</th>\n",
       "      <th>Rainfall</th>\n",
       "      <th>Evaporation</th>\n",
       "      <th>Sunshine</th>\n",
       "      <th>WindGustSpeed</th>\n",
       "      <th>WindDir3pm</th>\n",
       "      <th>WindSpeed9am</th>\n",
       "      <th>WindSpeed3pm</th>\n",
       "      <th>Humidity9am</th>\n",
       "      <th>...</th>\n",
       "      <th>RainToday</th>\n",
       "      <th>RainTomorrow</th>\n",
       "      <th>WindDir9am_E</th>\n",
       "      <th>WindDir9am_N</th>\n",
       "      <th>WindDir9am_NE</th>\n",
       "      <th>WindDir9am_NW</th>\n",
       "      <th>WindDir9am_S</th>\n",
       "      <th>WindDir9am_SE</th>\n",
       "      <th>WindDir9am_SW</th>\n",
       "      <th>WindDir9am_W</th>\n",
       "    </tr>\n",
       "  </thead>\n",
       "  <tbody>\n",
       "    <tr>\n",
       "      <th>4267</th>\n",
       "      <td>10.0</td>\n",
       "      <td>13.2</td>\n",
       "      <td>11.6</td>\n",
       "      <td>5.5</td>\n",
       "      <td>7.6</td>\n",
       "      <td>20.0</td>\n",
       "      <td>SW</td>\n",
       "      <td>11.0</td>\n",
       "      <td>9.0</td>\n",
       "      <td>97.0</td>\n",
       "      <td>...</td>\n",
       "      <td>1</td>\n",
       "      <td>1</td>\n",
       "      <td>0</td>\n",
       "      <td>0</td>\n",
       "      <td>0</td>\n",
       "      <td>0</td>\n",
       "      <td>0</td>\n",
       "      <td>0</td>\n",
       "      <td>1</td>\n",
       "      <td>0</td>\n",
       "    </tr>\n",
       "    <tr>\n",
       "      <th>36534</th>\n",
       "      <td>12.5</td>\n",
       "      <td>39.1</td>\n",
       "      <td>0.0</td>\n",
       "      <td>13.0</td>\n",
       "      <td>13.6</td>\n",
       "      <td>72.0</td>\n",
       "      <td>W</td>\n",
       "      <td>6.0</td>\n",
       "      <td>30.0</td>\n",
       "      <td>23.0</td>\n",
       "      <td>...</td>\n",
       "      <td>0</td>\n",
       "      <td>0</td>\n",
       "      <td>0</td>\n",
       "      <td>0</td>\n",
       "      <td>1</td>\n",
       "      <td>0</td>\n",
       "      <td>0</td>\n",
       "      <td>0</td>\n",
       "      <td>0</td>\n",
       "      <td>0</td>\n",
       "    </tr>\n",
       "    <tr>\n",
       "      <th>132540</th>\n",
       "      <td>11.2</td>\n",
       "      <td>22.0</td>\n",
       "      <td>0.0</td>\n",
       "      <td>6.2</td>\n",
       "      <td>12.3</td>\n",
       "      <td>31.0</td>\n",
       "      <td>SE</td>\n",
       "      <td>9.0</td>\n",
       "      <td>20.0</td>\n",
       "      <td>65.0</td>\n",
       "      <td>...</td>\n",
       "      <td>0</td>\n",
       "      <td>0</td>\n",
       "      <td>0</td>\n",
       "      <td>1</td>\n",
       "      <td>0</td>\n",
       "      <td>0</td>\n",
       "      <td>0</td>\n",
       "      <td>0</td>\n",
       "      <td>0</td>\n",
       "      <td>0</td>\n",
       "    </tr>\n",
       "    <tr>\n",
       "      <th>22850</th>\n",
       "      <td>18.3</td>\n",
       "      <td>23.1</td>\n",
       "      <td>0.0</td>\n",
       "      <td>5.6</td>\n",
       "      <td>2.9</td>\n",
       "      <td>35.0</td>\n",
       "      <td>SE</td>\n",
       "      <td>19.0</td>\n",
       "      <td>20.0</td>\n",
       "      <td>88.0</td>\n",
       "      <td>...</td>\n",
       "      <td>0</td>\n",
       "      <td>0</td>\n",
       "      <td>0</td>\n",
       "      <td>0</td>\n",
       "      <td>0</td>\n",
       "      <td>0</td>\n",
       "      <td>0</td>\n",
       "      <td>1</td>\n",
       "      <td>0</td>\n",
       "      <td>0</td>\n",
       "    </tr>\n",
       "    <tr>\n",
       "      <th>65544</th>\n",
       "      <td>10.8</td>\n",
       "      <td>26.6</td>\n",
       "      <td>0.0</td>\n",
       "      <td>7.2</td>\n",
       "      <td>1.8</td>\n",
       "      <td>76.0</td>\n",
       "      <td>N</td>\n",
       "      <td>52.0</td>\n",
       "      <td>43.0</td>\n",
       "      <td>51.0</td>\n",
       "      <td>...</td>\n",
       "      <td>0</td>\n",
       "      <td>0</td>\n",
       "      <td>0</td>\n",
       "      <td>1</td>\n",
       "      <td>0</td>\n",
       "      <td>0</td>\n",
       "      <td>0</td>\n",
       "      <td>0</td>\n",
       "      <td>0</td>\n",
       "      <td>0</td>\n",
       "    </tr>\n",
       "  </tbody>\n",
       "</table>\n",
       "<p>5 rows × 27 columns</p>\n",
       "</div>"
      ],
      "text/plain": [
       "        MinTemp  MaxTemp  Rainfall  Evaporation  Sunshine  WindGustSpeed  \\\n",
       "4267       10.0     13.2      11.6          5.5       7.6           20.0   \n",
       "36534      12.5     39.1       0.0         13.0      13.6           72.0   \n",
       "132540     11.2     22.0       0.0          6.2      12.3           31.0   \n",
       "22850      18.3     23.1       0.0          5.6       2.9           35.0   \n",
       "65544      10.8     26.6       0.0          7.2       1.8           76.0   \n",
       "\n",
       "       WindDir3pm  WindSpeed9am  WindSpeed3pm  Humidity9am  ...  RainToday  \\\n",
       "4267           SW          11.0           9.0         97.0  ...          1   \n",
       "36534           W           6.0          30.0         23.0  ...          0   \n",
       "132540         SE           9.0          20.0         65.0  ...          0   \n",
       "22850          SE          19.0          20.0         88.0  ...          0   \n",
       "65544           N          52.0          43.0         51.0  ...          0   \n",
       "\n",
       "        RainTomorrow  WindDir9am_E  WindDir9am_N  WindDir9am_NE  \\\n",
       "4267               1             0             0              0   \n",
       "36534              0             0             0              1   \n",
       "132540             0             0             1              0   \n",
       "22850              0             0             0              0   \n",
       "65544              0             0             1              0   \n",
       "\n",
       "        WindDir9am_NW  WindDir9am_S  WindDir9am_SE  WindDir9am_SW  \\\n",
       "4267                0             0              0              1   \n",
       "36534               0             0              0              0   \n",
       "132540              0             0              0              0   \n",
       "22850               0             0              1              0   \n",
       "65544               0             0              0              0   \n",
       "\n",
       "        WindDir9am_W  \n",
       "4267               0  \n",
       "36534              0  \n",
       "132540             0  \n",
       "22850              0  \n",
       "65544              0  \n",
       "\n",
       "[5 rows x 27 columns]"
      ]
     },
     "execution_count": 74,
     "metadata": {},
     "output_type": "execute_result"
    }
   ],
   "source": [
    "cols=pd.get_dummies(df[\"WindDir9am\"],prefix=\"WindDir9am\")\n",
    "df[cols.columns]=cols\n",
    "df.drop(\"WindDir9am\",axis=1,inplace=True)\n",
    "df.head()"
   ]
  },
  {
   "cell_type": "code",
   "execution_count": 75,
   "id": "e5efe48e",
   "metadata": {},
   "outputs": [
    {
     "data": {
      "text/html": [
       "<div>\n",
       "<style scoped>\n",
       "    .dataframe tbody tr th:only-of-type {\n",
       "        vertical-align: middle;\n",
       "    }\n",
       "\n",
       "    .dataframe tbody tr th {\n",
       "        vertical-align: top;\n",
       "    }\n",
       "\n",
       "    .dataframe thead th {\n",
       "        text-align: right;\n",
       "    }\n",
       "</style>\n",
       "<table border=\"1\" class=\"dataframe\">\n",
       "  <thead>\n",
       "    <tr style=\"text-align: right;\">\n",
       "      <th></th>\n",
       "      <th>MinTemp</th>\n",
       "      <th>MaxTemp</th>\n",
       "      <th>Rainfall</th>\n",
       "      <th>Evaporation</th>\n",
       "      <th>Sunshine</th>\n",
       "      <th>WindGustSpeed</th>\n",
       "      <th>WindSpeed9am</th>\n",
       "      <th>WindSpeed3pm</th>\n",
       "      <th>Humidity9am</th>\n",
       "      <th>Humidity3pm</th>\n",
       "      <th>...</th>\n",
       "      <th>WindDir9am_SW</th>\n",
       "      <th>WindDir9am_W</th>\n",
       "      <th>WindDir3pm_E</th>\n",
       "      <th>WindDir3pm_N</th>\n",
       "      <th>WindDir3pm_NE</th>\n",
       "      <th>WindDir3pm_NW</th>\n",
       "      <th>WindDir3pm_S</th>\n",
       "      <th>WindDir3pm_SE</th>\n",
       "      <th>WindDir3pm_SW</th>\n",
       "      <th>WindDir3pm_W</th>\n",
       "    </tr>\n",
       "  </thead>\n",
       "  <tbody>\n",
       "    <tr>\n",
       "      <th>4267</th>\n",
       "      <td>10.0</td>\n",
       "      <td>13.2</td>\n",
       "      <td>11.6</td>\n",
       "      <td>5.5</td>\n",
       "      <td>7.6</td>\n",
       "      <td>20.0</td>\n",
       "      <td>11.0</td>\n",
       "      <td>9.0</td>\n",
       "      <td>97.0</td>\n",
       "      <td>99.0</td>\n",
       "      <td>...</td>\n",
       "      <td>1</td>\n",
       "      <td>0</td>\n",
       "      <td>0</td>\n",
       "      <td>0</td>\n",
       "      <td>0</td>\n",
       "      <td>0</td>\n",
       "      <td>0</td>\n",
       "      <td>0</td>\n",
       "      <td>1</td>\n",
       "      <td>0</td>\n",
       "    </tr>\n",
       "    <tr>\n",
       "      <th>36534</th>\n",
       "      <td>12.5</td>\n",
       "      <td>39.1</td>\n",
       "      <td>0.0</td>\n",
       "      <td>13.0</td>\n",
       "      <td>13.6</td>\n",
       "      <td>72.0</td>\n",
       "      <td>6.0</td>\n",
       "      <td>30.0</td>\n",
       "      <td>23.0</td>\n",
       "      <td>3.0</td>\n",
       "      <td>...</td>\n",
       "      <td>0</td>\n",
       "      <td>0</td>\n",
       "      <td>0</td>\n",
       "      <td>0</td>\n",
       "      <td>0</td>\n",
       "      <td>0</td>\n",
       "      <td>0</td>\n",
       "      <td>0</td>\n",
       "      <td>0</td>\n",
       "      <td>1</td>\n",
       "    </tr>\n",
       "    <tr>\n",
       "      <th>132540</th>\n",
       "      <td>11.2</td>\n",
       "      <td>22.0</td>\n",
       "      <td>0.0</td>\n",
       "      <td>6.2</td>\n",
       "      <td>12.3</td>\n",
       "      <td>31.0</td>\n",
       "      <td>9.0</td>\n",
       "      <td>20.0</td>\n",
       "      <td>65.0</td>\n",
       "      <td>58.0</td>\n",
       "      <td>...</td>\n",
       "      <td>0</td>\n",
       "      <td>0</td>\n",
       "      <td>0</td>\n",
       "      <td>0</td>\n",
       "      <td>0</td>\n",
       "      <td>0</td>\n",
       "      <td>0</td>\n",
       "      <td>1</td>\n",
       "      <td>0</td>\n",
       "      <td>0</td>\n",
       "    </tr>\n",
       "    <tr>\n",
       "      <th>22850</th>\n",
       "      <td>18.3</td>\n",
       "      <td>23.1</td>\n",
       "      <td>0.0</td>\n",
       "      <td>5.6</td>\n",
       "      <td>2.9</td>\n",
       "      <td>35.0</td>\n",
       "      <td>19.0</td>\n",
       "      <td>20.0</td>\n",
       "      <td>88.0</td>\n",
       "      <td>67.0</td>\n",
       "      <td>...</td>\n",
       "      <td>0</td>\n",
       "      <td>0</td>\n",
       "      <td>0</td>\n",
       "      <td>0</td>\n",
       "      <td>0</td>\n",
       "      <td>0</td>\n",
       "      <td>0</td>\n",
       "      <td>1</td>\n",
       "      <td>0</td>\n",
       "      <td>0</td>\n",
       "    </tr>\n",
       "    <tr>\n",
       "      <th>65544</th>\n",
       "      <td>10.8</td>\n",
       "      <td>26.6</td>\n",
       "      <td>0.0</td>\n",
       "      <td>7.2</td>\n",
       "      <td>1.8</td>\n",
       "      <td>76.0</td>\n",
       "      <td>52.0</td>\n",
       "      <td>43.0</td>\n",
       "      <td>51.0</td>\n",
       "      <td>36.0</td>\n",
       "      <td>...</td>\n",
       "      <td>0</td>\n",
       "      <td>0</td>\n",
       "      <td>0</td>\n",
       "      <td>1</td>\n",
       "      <td>0</td>\n",
       "      <td>0</td>\n",
       "      <td>0</td>\n",
       "      <td>0</td>\n",
       "      <td>0</td>\n",
       "      <td>0</td>\n",
       "    </tr>\n",
       "  </tbody>\n",
       "</table>\n",
       "<p>5 rows × 34 columns</p>\n",
       "</div>"
      ],
      "text/plain": [
       "        MinTemp  MaxTemp  Rainfall  Evaporation  Sunshine  WindGustSpeed  \\\n",
       "4267       10.0     13.2      11.6          5.5       7.6           20.0   \n",
       "36534      12.5     39.1       0.0         13.0      13.6           72.0   \n",
       "132540     11.2     22.0       0.0          6.2      12.3           31.0   \n",
       "22850      18.3     23.1       0.0          5.6       2.9           35.0   \n",
       "65544      10.8     26.6       0.0          7.2       1.8           76.0   \n",
       "\n",
       "        WindSpeed9am  WindSpeed3pm  Humidity9am  Humidity3pm  ...  \\\n",
       "4267            11.0           9.0         97.0         99.0  ...   \n",
       "36534            6.0          30.0         23.0          3.0  ...   \n",
       "132540           9.0          20.0         65.0         58.0  ...   \n",
       "22850           19.0          20.0         88.0         67.0  ...   \n",
       "65544           52.0          43.0         51.0         36.0  ...   \n",
       "\n",
       "        WindDir9am_SW  WindDir9am_W  WindDir3pm_E  WindDir3pm_N  \\\n",
       "4267                1             0             0             0   \n",
       "36534               0             0             0             0   \n",
       "132540              0             0             0             0   \n",
       "22850               0             0             0             0   \n",
       "65544               0             0             0             1   \n",
       "\n",
       "        WindDir3pm_NE  WindDir3pm_NW  WindDir3pm_S  WindDir3pm_SE  \\\n",
       "4267                0              0             0              0   \n",
       "36534               0              0             0              0   \n",
       "132540              0              0             0              1   \n",
       "22850               0              0             0              1   \n",
       "65544               0              0             0              0   \n",
       "\n",
       "        WindDir3pm_SW  WindDir3pm_W  \n",
       "4267                1             0  \n",
       "36534               0             1  \n",
       "132540              0             0  \n",
       "22850               0             0  \n",
       "65544               0             0  \n",
       "\n",
       "[5 rows x 34 columns]"
      ]
     },
     "execution_count": 75,
     "metadata": {},
     "output_type": "execute_result"
    }
   ],
   "source": [
    "cols=pd.get_dummies(df[\"WindDir3pm\"],prefix=\"WindDir3pm\")\n",
    "df[cols.columns]=cols\n",
    "df.drop(\"WindDir3pm\",axis=1,inplace=True)\n",
    "df.head()"
   ]
  },
  {
   "cell_type": "code",
   "execution_count": 76,
   "id": "ae32a834",
   "metadata": {},
   "outputs": [
    {
     "name": "stdout",
     "output_type": "stream",
     "text": [
      "<class 'pandas.core.frame.DataFrame'>\n",
      "Int64Index: 8805 entries, 4267 to 103071\n",
      "Data columns (total 34 columns):\n",
      " #   Column         Non-Null Count  Dtype  \n",
      "---  ------         --------------  -----  \n",
      " 0   MinTemp        8805 non-null   float64\n",
      " 1   MaxTemp        8805 non-null   float64\n",
      " 2   Rainfall       8805 non-null   float64\n",
      " 3   Evaporation    8805 non-null   float64\n",
      " 4   Sunshine       8805 non-null   float64\n",
      " 5   WindGustSpeed  8805 non-null   float64\n",
      " 6   WindSpeed9am   8805 non-null   float64\n",
      " 7   WindSpeed3pm   8805 non-null   float64\n",
      " 8   Humidity9am    8805 non-null   float64\n",
      " 9   Humidity3pm    8805 non-null   float64\n",
      " 10  Pressure9am    8805 non-null   float64\n",
      " 11  Pressure3pm    8805 non-null   float64\n",
      " 12  Cloud9am       8805 non-null   float64\n",
      " 13  Cloud3pm       8805 non-null   float64\n",
      " 14  Temp9am        8805 non-null   float64\n",
      " 15  Temp3pm        8805 non-null   float64\n",
      " 16  RainToday      8805 non-null   int32  \n",
      " 17  RainTomorrow   8805 non-null   int32  \n",
      " 18  WindDir9am_E   8805 non-null   uint8  \n",
      " 19  WindDir9am_N   8805 non-null   uint8  \n",
      " 20  WindDir9am_NE  8805 non-null   uint8  \n",
      " 21  WindDir9am_NW  8805 non-null   uint8  \n",
      " 22  WindDir9am_S   8805 non-null   uint8  \n",
      " 23  WindDir9am_SE  8805 non-null   uint8  \n",
      " 24  WindDir9am_SW  8805 non-null   uint8  \n",
      " 25  WindDir9am_W   8805 non-null   uint8  \n",
      " 26  WindDir3pm_E   8805 non-null   uint8  \n",
      " 27  WindDir3pm_N   8805 non-null   uint8  \n",
      " 28  WindDir3pm_NE  8805 non-null   uint8  \n",
      " 29  WindDir3pm_NW  8805 non-null   uint8  \n",
      " 30  WindDir3pm_S   8805 non-null   uint8  \n",
      " 31  WindDir3pm_SE  8805 non-null   uint8  \n",
      " 32  WindDir3pm_SW  8805 non-null   uint8  \n",
      " 33  WindDir3pm_W   8805 non-null   uint8  \n",
      "dtypes: float64(16), int32(2), uint8(16)\n",
      "memory usage: 1.3 MB\n"
     ]
    }
   ],
   "source": [
    "df.info()"
   ]
  },
  {
   "cell_type": "code",
   "execution_count": 77,
   "id": "6a109670",
   "metadata": {
    "scrolled": true
   },
   "outputs": [
    {
     "data": {
      "text/plain": [
       "MinTemp          0\n",
       "MaxTemp          0\n",
       "Rainfall         0\n",
       "Evaporation      0\n",
       "Sunshine         0\n",
       "WindGustSpeed    0\n",
       "WindSpeed9am     0\n",
       "WindSpeed3pm     0\n",
       "Humidity9am      0\n",
       "Humidity3pm      0\n",
       "Pressure9am      0\n",
       "Pressure3pm      0\n",
       "Cloud9am         0\n",
       "Cloud3pm         0\n",
       "Temp9am          0\n",
       "Temp3pm          0\n",
       "RainToday        0\n",
       "RainTomorrow     0\n",
       "WindDir9am_E     0\n",
       "WindDir9am_N     0\n",
       "WindDir9am_NE    0\n",
       "WindDir9am_NW    0\n",
       "WindDir9am_S     0\n",
       "WindDir9am_SE    0\n",
       "WindDir9am_SW    0\n",
       "WindDir9am_W     0\n",
       "WindDir3pm_E     0\n",
       "WindDir3pm_N     0\n",
       "WindDir3pm_NE    0\n",
       "WindDir3pm_NW    0\n",
       "WindDir3pm_S     0\n",
       "WindDir3pm_SE    0\n",
       "WindDir3pm_SW    0\n",
       "WindDir3pm_W     0\n",
       "dtype: int64"
      ]
     },
     "execution_count": 77,
     "metadata": {},
     "output_type": "execute_result"
    }
   ],
   "source": [
    "(df.isnull().sum())"
   ]
  },
  {
   "cell_type": "markdown",
   "id": "020b9b7d",
   "metadata": {},
   "source": [
    "<b size = \"3\">Based on the above output, we can see that we do not have any more missing values in the dataset and thus can begin with next steps of visualization. The above Data cleaning and transformation logic has been taken from Project 1</b>"
   ]
  },
  {
   "cell_type": "markdown",
   "id": "82477dd6",
   "metadata": {},
   "source": [
    "<b size = \"3\"><u>Train-Test Split</u></b>"
   ]
  },
  {
   "cell_type": "markdown",
   "id": "5c968089",
   "metadata": {},
   "source": [
    "<b size =\"3\"> Defining X and Y for all models</b>"
   ]
  },
  {
   "cell_type": "code",
   "execution_count": 79,
   "id": "bacc3319",
   "metadata": {},
   "outputs": [],
   "source": [
    "X = df.drop('RainTomorrow', axis = 1)\n",
    "y = df['RainTomorrow']"
   ]
  },
  {
   "cell_type": "markdown",
   "id": "a338eb5b",
   "metadata": {},
   "source": [
    "<b size =\"3\"> Split dataset into Train and Test</b>"
   ]
  },
  {
   "cell_type": "code",
   "execution_count": 80,
   "id": "ed179c03",
   "metadata": {},
   "outputs": [],
   "source": [
    "from sklearn.preprocessing import MinMaxScaler\n",
    "from sklearn.model_selection import train_test_split"
   ]
  },
  {
   "cell_type": "code",
   "execution_count": 81,
   "id": "2c844598",
   "metadata": {},
   "outputs": [],
   "source": [
    "X_train_orig, X_test_orig, y_train, y_test = train_test_split(X, y, random_state = 0)\n",
    "\n",
    "scaler = MinMaxScaler()\n",
    "X_train = scaler.fit_transform(X_train_orig)\n",
    "X_test = scaler.transform(X_test_orig)"
   ]
  },
  {
   "cell_type": "markdown",
   "id": "e8b420c8",
   "metadata": {},
   "source": [
    "### Note: I have used Confusion Matrix and ROC_AUC score as final evalution matrix for Project 1. For Project2, I will be using ROC_AUC evaluation matrix. "
   ]
  },
  {
   "cell_type": "markdown",
   "id": "9b92232d",
   "metadata": {},
   "source": [
    "# Hard voting Classifier"
   ]
  },
  {
   "cell_type": "code",
   "execution_count": 82,
   "id": "e63c02af",
   "metadata": {},
   "outputs": [
    {
     "name": "stdout",
     "output_type": "stream",
     "text": [
      "LogisticRegression 0.7179\n",
      "DecisionTreeClassifier 0.6853\n",
      "SVC 0.7105\n",
      "VotingClassifier 0.7089\n"
     ]
    }
   ],
   "source": [
    "from sklearn.tree import DecisionTreeClassifier\n",
    "from sklearn.linear_model import LogisticRegression\n",
    "from sklearn.svm import SVC\n",
    "from sklearn.ensemble import VotingClassifier\n",
    "from sklearn.metrics import roc_auc_score\n",
    "\n",
    "log_l1 = LogisticRegression(penalty = 'l1', C = 10, solver = 'liblinear', max_iter = 10000)\n",
    "log_l1.fit(X_train, y_train)\n",
    "\n",
    "dtree = DecisionTreeClassifier(max_depth = 5 , min_samples_leaf = 10, min_samples_split = 10, min_impurity_decrease =0.0002 ,random_state=0)\n",
    "dtree.fit(X_train, y_train)\n",
    "\n",
    "svm_clf = SVC(kernel='rbf', C=100,gamma = 0.01, random_state = 0)\n",
    "svm_clf.fit(X_train, y_train)\n",
    "\n",
    "voting_clf = VotingClassifier(estimators=[('lr', log_l1), ('dt', dtree), ('svc', svm_clf)], voting='hard')\n",
    "voting_clf.fit(X_train, y_train)\n",
    "\n",
    "for clf in (log_l1, dtree, svm_clf, voting_clf):\n",
    "    clf.fit(X_train, y_train)\n",
    "    y_pred = clf.predict(X_test)\n",
    "    print(clf.__class__.__name__, '%.4f'%roc_auc_score(y_test, y_pred))"
   ]
  },
  {
   "cell_type": "markdown",
   "id": "c1bf5939",
   "metadata": {},
   "source": [
    "# Soft Voting Classifier"
   ]
  },
  {
   "cell_type": "code",
   "execution_count": 83,
   "id": "23be726a",
   "metadata": {},
   "outputs": [
    {
     "name": "stdout",
     "output_type": "stream",
     "text": [
      "LogisticRegression 0.7179\n",
      "DecisionTreeClassifier 0.6853\n",
      "SVC 0.7105\n",
      "VotingClassifier 0.7169\n"
     ]
    }
   ],
   "source": [
    "log_l1 = LogisticRegression(penalty = 'l1', C = 10, solver = 'liblinear', max_iter = 10000)\n",
    "log_l1.fit(X_train, y_train)\n",
    "\n",
    "dtree = DecisionTreeClassifier(max_depth = 5, min_samples_leaf = 10, min_samples_split = 10, min_impurity_decrease = 0.0002 ,random_state=0)\n",
    "dtree.fit(X_train, y_train)\n",
    "\n",
    "svm_clf = SVC(kernel='rbf', C=100,gamma = 0.01, random_state = 0,probability = True)\n",
    "svm_clf.fit(X_train, y_train)\n",
    "\n",
    "voting_clf = VotingClassifier(estimators=[('lr', log_l1), ('dt',dtree), ('svc', svm_clf)], voting='soft')\n",
    "voting_clf.fit(X_train, y_train)\n",
    "\n",
    "for clf in (log_l1, dtree , svm_clf, voting_clf):\n",
    "    clf.fit(X_train, y_train)\n",
    "    y_pred = clf.predict(X_test)\n",
    "    print(clf.__class__.__name__, '%.4f'%roc_auc_score(y_test, y_pred))"
   ]
  },
  {
   "cell_type": "markdown",
   "id": "79356678",
   "metadata": {},
   "source": [
    "# Bagging"
   ]
  },
  {
   "cell_type": "markdown",
   "id": "3d94a547",
   "metadata": {},
   "source": [
    "I have used grid search here for the best n_estimators. All the other parameters used in the classifier are already selected through grid search in the Project 1"
   ]
  },
  {
   "cell_type": "markdown",
   "id": "19214b22",
   "metadata": {},
   "source": [
    "### Decision Tree"
   ]
  },
  {
   "cell_type": "code",
   "execution_count": 84,
   "id": "582f2153",
   "metadata": {},
   "outputs": [],
   "source": [
    "from sklearn.ensemble import BaggingClassifier\n",
    "from sklearn.tree import DecisionTreeClassifier\n",
    "\n",
    "param_grid = {'n_estimators':[100,500,1000]}"
   ]
  },
  {
   "cell_type": "code",
   "execution_count": 85,
   "id": "c37530aa",
   "metadata": {},
   "outputs": [
    {
     "data": {
      "text/plain": [
       "GridSearchCV(cv=5,\n",
       "             estimator=BaggingClassifier(base_estimator=DecisionTreeClassifier(max_depth=5,\n",
       "                                                                               min_impurity_decrease=0.0002,\n",
       "                                                                               min_samples_leaf=10,\n",
       "                                                                               min_samples_split=10,\n",
       "                                                                               random_state=0),\n",
       "                                         max_samples=100, oob_score=True,\n",
       "                                         random_state=0),\n",
       "             n_jobs=-1, param_grid={'n_estimators': [100, 500, 1000]},\n",
       "             scoring='roc_auc')"
      ]
     },
     "execution_count": 85,
     "metadata": {},
     "output_type": "execute_result"
    }
   ],
   "source": [
    "from sklearn.ensemble import BaggingClassifier\n",
    "from sklearn.tree import DecisionTreeClassifier\n",
    "from sklearn.model_selection import GridSearchCV\n",
    "\n",
    "dt_clf = DecisionTreeClassifier(max_depth = 5, min_samples_leaf = 10, min_samples_split = 10, min_impurity_decrease = 0.0002 ,random_state=0)\n",
    "bag_clf = BaggingClassifier(dt_clf, max_samples=100, bootstrap=True, random_state=0, oob_score = True)\n",
    "\n",
    "bag_grid = GridSearchCV(bag_clf, param_grid = param_grid, cv = 5, n_jobs = -1, scoring = 'roc_auc' )\n",
    "bag_grid.fit(X_train, y_train)\n",
    "\n"
   ]
  },
  {
   "cell_type": "code",
   "execution_count": 86,
   "id": "ac8003ee",
   "metadata": {},
   "outputs": [
    {
     "name": "stdout",
     "output_type": "stream",
     "text": [
      "Best parameters: {'n_estimators': 1000}\n",
      "Best cross-validation score: 0.84\n"
     ]
    }
   ],
   "source": [
    "print(\"Best parameters: {}\".format(bag_grid.best_params_))\n",
    "print(\"Best cross-validation score: {:.2f}\".format(bag_grid.best_score_))"
   ]
  },
  {
   "cell_type": "code",
   "execution_count": 87,
   "id": "dfc9b4f4",
   "metadata": {},
   "outputs": [],
   "source": [
    "bag_clf = BaggingClassifier(dt_clf,max_samples=100,n_estimators =1000 ,bootstrap=True, random_state=0, oob_score = True)"
   ]
  },
  {
   "cell_type": "code",
   "execution_count": 88,
   "id": "f5c9240e",
   "metadata": {},
   "outputs": [
    {
     "data": {
      "text/plain": [
       "BaggingClassifier(base_estimator=DecisionTreeClassifier(max_depth=5,\n",
       "                                                        min_impurity_decrease=0.0002,\n",
       "                                                        min_samples_leaf=10,\n",
       "                                                        min_samples_split=10,\n",
       "                                                        random_state=0),\n",
       "                  max_samples=100, n_estimators=1000, oob_score=True,\n",
       "                  random_state=0)"
      ]
     },
     "execution_count": 88,
     "metadata": {},
     "output_type": "execute_result"
    }
   ],
   "source": [
    "bag_clf.fit(X_train, y_train)"
   ]
  },
  {
   "cell_type": "code",
   "execution_count": 89,
   "id": "c1a12b14",
   "metadata": {},
   "outputs": [],
   "source": [
    "y_pred = bag_clf.predict(X_test)"
   ]
  },
  {
   "cell_type": "code",
   "execution_count": 90,
   "id": "c02fdf4b",
   "metadata": {},
   "outputs": [
    {
     "name": "stdout",
     "output_type": "stream",
     "text": [
      "Train score: 0.83\n",
      "Test score: 0.84\n",
      "Out-of-bag score: 0.83\n"
     ]
    }
   ],
   "source": [
    "from  sklearn.metrics import roc_auc_score\n",
    "\n",
    "print('Train score: %.2f'%bag_clf.score(X_train, y_train))\n",
    "print('Test score: %.2f'%bag_clf.score(X_test, y_test))\n",
    "print('Out-of-bag score: %.2f'%bag_clf.oob_score_)"
   ]
  },
  {
   "cell_type": "markdown",
   "id": "75561975",
   "metadata": {},
   "source": [
    "### SVC"
   ]
  },
  {
   "cell_type": "code",
   "execution_count": 91,
   "id": "80576a1e",
   "metadata": {},
   "outputs": [],
   "source": [
    "param_grid = {'n_estimators':[100,500,1000]}"
   ]
  },
  {
   "cell_type": "code",
   "execution_count": 92,
   "id": "a1268a1e",
   "metadata": {},
   "outputs": [],
   "source": [
    "from sklearn.svm import SVC\n",
    "svc_clf = SVC(kernel='rbf', C=100,gamma = 0.01)\n",
    "bag_clf = BaggingClassifier(svc_clf, max_samples=100, bootstrap=True, random_state=0, oob_score = True)"
   ]
  },
  {
   "cell_type": "code",
   "execution_count": 93,
   "id": "fe81e842",
   "metadata": {},
   "outputs": [],
   "source": [
    "bag_grid = GridSearchCV(bag_clf, param_grid = param_grid, cv = 5, n_jobs = -1, scoring = 'roc_auc' )"
   ]
  },
  {
   "cell_type": "code",
   "execution_count": 94,
   "id": "d8a37e6c",
   "metadata": {},
   "outputs": [
    {
     "data": {
      "text/plain": [
       "GridSearchCV(cv=5,\n",
       "             estimator=BaggingClassifier(base_estimator=SVC(C=100, gamma=0.01),\n",
       "                                         max_samples=100, oob_score=True,\n",
       "                                         random_state=0),\n",
       "             n_jobs=-1, param_grid={'n_estimators': [100, 500, 1000]},\n",
       "             scoring='roc_auc')"
      ]
     },
     "execution_count": 94,
     "metadata": {},
     "output_type": "execute_result"
    }
   ],
   "source": [
    "bag_grid.fit(X_train, y_train)"
   ]
  },
  {
   "cell_type": "code",
   "execution_count": 95,
   "id": "d7a04964",
   "metadata": {},
   "outputs": [
    {
     "name": "stdout",
     "output_type": "stream",
     "text": [
      "Best parameters: {'n_estimators': 1000}\n",
      "Best cross-validation score: 0.85\n"
     ]
    }
   ],
   "source": [
    "print(\"Best parameters: {}\".format(bag_grid.best_params_))\n",
    "print(\"Best cross-validation score: {:.2f}\".format(bag_grid.best_score_))"
   ]
  },
  {
   "cell_type": "code",
   "execution_count": 96,
   "id": "9457ad79",
   "metadata": {},
   "outputs": [],
   "source": [
    "bag_clf = BaggingClassifier(svc_clf,max_samples=100,n_estimators =1000 ,bootstrap=True, random_state=0, oob_score = True)"
   ]
  },
  {
   "cell_type": "code",
   "execution_count": 97,
   "id": "15f53adf",
   "metadata": {},
   "outputs": [
    {
     "data": {
      "text/plain": [
       "BaggingClassifier(base_estimator=SVC(C=100, gamma=0.01), max_samples=100,\n",
       "                  n_estimators=1000, oob_score=True, random_state=0)"
      ]
     },
     "execution_count": 97,
     "metadata": {},
     "output_type": "execute_result"
    }
   ],
   "source": [
    "bag_clf.fit(X_train, y_train)"
   ]
  },
  {
   "cell_type": "code",
   "execution_count": 98,
   "id": "64ef31fe",
   "metadata": {},
   "outputs": [],
   "source": [
    "y_pred = bag_clf.predict(X_test)"
   ]
  },
  {
   "cell_type": "code",
   "execution_count": 99,
   "id": "abe0c7fc",
   "metadata": {},
   "outputs": [
    {
     "name": "stdout",
     "output_type": "stream",
     "text": [
      "Train score: 0.83\n",
      "Test score: 0.84\n",
      "Out-of-bag score: 0.83\n"
     ]
    }
   ],
   "source": [
    "from  sklearn.metrics import accuracy_score\n",
    "print('Train score: %.2f'%bag_clf.score(X_train, y_train))\n",
    "print('Test score: %.2f'%bag_clf.score(X_test, y_test))\n",
    "print('Out-of-bag score: %.2f'%bag_clf.oob_score_)"
   ]
  },
  {
   "cell_type": "markdown",
   "id": "2e616f78",
   "metadata": {},
   "source": [
    "# PASTING"
   ]
  },
  {
   "cell_type": "markdown",
   "id": "f8b5dfd1",
   "metadata": {},
   "source": [
    "All the other parameters used in the classifier are already selected through grid search in the Project 1. For Pasting , I have used Decision Tree and SVC models."
   ]
  },
  {
   "cell_type": "markdown",
   "id": "5cb4a685",
   "metadata": {},
   "source": [
    "### Decision Tree"
   ]
  },
  {
   "cell_type": "code",
   "execution_count": 100,
   "id": "64a591e8",
   "metadata": {},
   "outputs": [],
   "source": [
    "from sklearn.ensemble import BaggingClassifier\n",
    "from sklearn.tree import DecisionTreeClassifier\n",
    "\n",
    "param_grid = {'n_estimators':[100, 500 , 1000]}"
   ]
  },
  {
   "cell_type": "code",
   "execution_count": 101,
   "id": "e5da0fcb",
   "metadata": {},
   "outputs": [],
   "source": [
    "dt_clf = DecisionTreeClassifier(max_depth = 5, min_samples_leaf = 10, min_samples_split = 10, min_impurity_decrease = 0.0002 ,random_state=0)\n",
    "bag_clf = BaggingClassifier(dt_clf, max_samples=100, bootstrap=False, random_state=0)"
   ]
  },
  {
   "cell_type": "code",
   "execution_count": 102,
   "id": "fe78e662",
   "metadata": {},
   "outputs": [],
   "source": [
    "bag_grid = GridSearchCV(bag_clf, param_grid = param_grid, cv = 5, n_jobs = -1, scoring = 'roc_auc' )"
   ]
  },
  {
   "cell_type": "code",
   "execution_count": 103,
   "id": "89e7fe23",
   "metadata": {},
   "outputs": [
    {
     "data": {
      "text/plain": [
       "GridSearchCV(cv=5,\n",
       "             estimator=BaggingClassifier(base_estimator=DecisionTreeClassifier(max_depth=5,\n",
       "                                                                               min_impurity_decrease=0.0002,\n",
       "                                                                               min_samples_leaf=10,\n",
       "                                                                               min_samples_split=10,\n",
       "                                                                               random_state=0),\n",
       "                                         bootstrap=False, max_samples=100,\n",
       "                                         random_state=0),\n",
       "             n_jobs=-1, param_grid={'n_estimators': [100, 500, 1000]},\n",
       "             scoring='roc_auc')"
      ]
     },
     "execution_count": 103,
     "metadata": {},
     "output_type": "execute_result"
    }
   ],
   "source": [
    "bag_grid.fit(X_train, y_train)"
   ]
  },
  {
   "cell_type": "code",
   "execution_count": 104,
   "id": "12155069",
   "metadata": {},
   "outputs": [
    {
     "name": "stdout",
     "output_type": "stream",
     "text": [
      "Best parameters: {'n_estimators': 500}\n",
      "Best cross-validation score: 0.84\n"
     ]
    }
   ],
   "source": [
    "print(\"Best parameters: {}\".format(bag_grid.best_params_))\n",
    "print(\"Best cross-validation score: {:.2f}\".format(bag_grid.best_score_))"
   ]
  },
  {
   "cell_type": "code",
   "execution_count": 105,
   "id": "5cd8b638",
   "metadata": {},
   "outputs": [],
   "source": [
    "bag_clf = BaggingClassifier(dt_clf, max_samples=100,n_estimators = 1000, bootstrap= False, random_state=0)"
   ]
  },
  {
   "cell_type": "code",
   "execution_count": 106,
   "id": "657ac5fb",
   "metadata": {},
   "outputs": [
    {
     "data": {
      "text/plain": [
       "BaggingClassifier(base_estimator=DecisionTreeClassifier(max_depth=5,\n",
       "                                                        min_impurity_decrease=0.0002,\n",
       "                                                        min_samples_leaf=10,\n",
       "                                                        min_samples_split=10,\n",
       "                                                        random_state=0),\n",
       "                  bootstrap=False, max_samples=100, n_estimators=1000,\n",
       "                  random_state=0)"
      ]
     },
     "execution_count": 106,
     "metadata": {},
     "output_type": "execute_result"
    }
   ],
   "source": [
    "bag_clf.fit(X_train, y_train)"
   ]
  },
  {
   "cell_type": "code",
   "execution_count": 107,
   "id": "97686bf0",
   "metadata": {},
   "outputs": [
    {
     "name": "stdout",
     "output_type": "stream",
     "text": [
      "Train score: 0.83\n",
      "Test score: 0.84\n"
     ]
    }
   ],
   "source": [
    "from  sklearn.metrics import accuracy_score\n",
    "print('Train score: %.2f'%bag_clf.score(X_train, y_train))\n",
    "print('Test score: %.2f'%bag_clf.score(X_test, y_test))"
   ]
  },
  {
   "cell_type": "markdown",
   "id": "480eed76",
   "metadata": {},
   "source": [
    "### SVC"
   ]
  },
  {
   "cell_type": "code",
   "execution_count": 108,
   "id": "154e1307",
   "metadata": {},
   "outputs": [],
   "source": [
    "param_grid = {'n_estimators':[100, 500 , 1000]}"
   ]
  },
  {
   "cell_type": "code",
   "execution_count": 109,
   "id": "ce7f27c3",
   "metadata": {},
   "outputs": [],
   "source": [
    "svc_clf = SVC(kernel='rbf', C=100,gamma = 0.01)\n",
    "bag_clf = BaggingClassifier(svc_clf, max_samples=100, bootstrap=False, random_state=0)\n",
    "bag_grid = GridSearchCV(bag_clf, param_grid = param_grid, cv = 5, n_jobs = -1, scoring = 'roc_auc' )"
   ]
  },
  {
   "cell_type": "code",
   "execution_count": 110,
   "id": "d50affec",
   "metadata": {},
   "outputs": [
    {
     "data": {
      "text/plain": [
       "GridSearchCV(cv=5,\n",
       "             estimator=BaggingClassifier(base_estimator=SVC(C=100, gamma=0.01),\n",
       "                                         bootstrap=False, max_samples=100,\n",
       "                                         random_state=0),\n",
       "             n_jobs=-1, param_grid={'n_estimators': [100, 500, 1000]},\n",
       "             scoring='roc_auc')"
      ]
     },
     "execution_count": 110,
     "metadata": {},
     "output_type": "execute_result"
    }
   ],
   "source": [
    "bag_grid.fit(X_train, y_train)"
   ]
  },
  {
   "cell_type": "code",
   "execution_count": 111,
   "id": "14268760",
   "metadata": {},
   "outputs": [
    {
     "name": "stdout",
     "output_type": "stream",
     "text": [
      "Best parameters: {'n_estimators': 1000}\n",
      "Best cross-validation score: 0.85\n"
     ]
    }
   ],
   "source": [
    "print(\"Best parameters: {}\".format(bag_grid.best_params_))\n",
    "print(\"Best cross-validation score: {:.2f}\".format(bag_grid.best_score_))"
   ]
  },
  {
   "cell_type": "code",
   "execution_count": 112,
   "id": "83ca034c",
   "metadata": {},
   "outputs": [],
   "source": [
    "bag_clf = BaggingClassifier(svc_clf, n_estimators =1000 , max_samples=100, bootstrap = False, random_state=0)"
   ]
  },
  {
   "cell_type": "code",
   "execution_count": 113,
   "id": "e9af606a",
   "metadata": {},
   "outputs": [],
   "source": [
    "bag_clf.fit(X_train, y_train)\n",
    "y_pred = bag_clf.predict(X_test)"
   ]
  },
  {
   "cell_type": "code",
   "execution_count": 114,
   "id": "8558a279",
   "metadata": {},
   "outputs": [
    {
     "name": "stdout",
     "output_type": "stream",
     "text": [
      "Train score: 0.83\n",
      "Test score: 0.84\n"
     ]
    }
   ],
   "source": [
    "from  sklearn.metrics import accuracy_score\n",
    "print('Train score: %.2f'%bag_clf.score(X_train, y_train))\n",
    "print('Test score: %.2f'%bag_clf.score(X_test, y_test))"
   ]
  },
  {
   "cell_type": "markdown",
   "id": "879dcf26",
   "metadata": {},
   "source": [
    "# ADABOOSTING"
   ]
  },
  {
   "cell_type": "markdown",
   "id": "1db079af",
   "metadata": {},
   "source": [
    "I have chosen two models for adaboosting - Decision tree and Logistic Regression.All the parameters are already obtained through grid search. So I have just used grid search to get the best - n_estimators and Learning rate"
   ]
  },
  {
   "cell_type": "markdown",
   "id": "c5c45f0d",
   "metadata": {},
   "source": [
    "### Decision Tree"
   ]
  },
  {
   "cell_type": "code",
   "execution_count": 115,
   "id": "1fd74ca9",
   "metadata": {},
   "outputs": [],
   "source": [
    "from sklearn.ensemble import AdaBoostClassifier\n",
    "from sklearn.model_selection import GridSearchCV\n",
    "\n",
    "param_grid = {'n_estimators':[100, 500 , 1000], \n",
    "              'learning_rate':[0.1, 0.5, 1 ]}\n"
   ]
  },
  {
   "cell_type": "code",
   "execution_count": 116,
   "id": "f5a94494",
   "metadata": {},
   "outputs": [
    {
     "data": {
      "text/plain": [
       "GridSearchCV(cv=5,\n",
       "             estimator=AdaBoostClassifier(base_estimator=DecisionTreeClassifier(max_depth=5,\n",
       "                                                                                min_impurity_decrease=0.0002,\n",
       "                                                                                min_samples_leaf=10,\n",
       "                                                                                min_samples_split=10,\n",
       "                                                                                random_state=0),\n",
       "                                          random_state=0),\n",
       "             n_jobs=-1,\n",
       "             param_grid={'learning_rate': [0.1, 0.5, 1],\n",
       "                         'n_estimators': [100, 500, 1000]},\n",
       "             scoring='roc_auc')"
      ]
     },
     "execution_count": 116,
     "metadata": {},
     "output_type": "execute_result"
    }
   ],
   "source": [
    "bag_clf = AdaBoostClassifier(DecisionTreeClassifier(max_depth = 5, min_samples_leaf = 10, min_samples_split = 10, min_impurity_decrease =0.0002,random_state = 0 ),algorithm=\"SAMME.R\", random_state=0)\n",
    "bag_grid = GridSearchCV(bag_clf, param_grid = param_grid, cv = 5, n_jobs = -1, scoring = 'roc_auc' )\n",
    "bag_grid.fit(X_train, y_train)"
   ]
  },
  {
   "cell_type": "code",
   "execution_count": 117,
   "id": "0798c414",
   "metadata": {},
   "outputs": [
    {
     "name": "stdout",
     "output_type": "stream",
     "text": [
      "Best parameters: {'learning_rate': 0.1, 'n_estimators': 1000}\n",
      "Best cross-validation score: 0.83\n"
     ]
    }
   ],
   "source": [
    "print(\"Best parameters: {}\".format(bag_grid.best_params_))\n",
    "print(\"Best cross-validation score: {:.2f}\".format(bag_grid.best_score_))"
   ]
  },
  {
   "cell_type": "code",
   "execution_count": 118,
   "id": "f0ca4a39",
   "metadata": {},
   "outputs": [],
   "source": [
    "bag_clf = AdaBoostClassifier(DecisionTreeClassifier(max_depth = 5, min_samples_leaf = 10, min_samples_split = 10, min_impurity_decrease =0.0002,random_state = 0 ),n_estimators = 1000 , learning_rate = 0.1 , algorithm=\"SAMME.R\", random_state=0)\n"
   ]
  },
  {
   "cell_type": "code",
   "execution_count": 119,
   "id": "adb68a28",
   "metadata": {},
   "outputs": [
    {
     "data": {
      "text/plain": [
       "AdaBoostClassifier(base_estimator=DecisionTreeClassifier(max_depth=5,\n",
       "                                                         min_impurity_decrease=0.0002,\n",
       "                                                         min_samples_leaf=10,\n",
       "                                                         min_samples_split=10,\n",
       "                                                         random_state=0),\n",
       "                   learning_rate=0.1, n_estimators=1000, random_state=0)"
      ]
     },
     "execution_count": 119,
     "metadata": {},
     "output_type": "execute_result"
    }
   ],
   "source": [
    "bag_clf.fit(X_train, y_train)"
   ]
  },
  {
   "cell_type": "code",
   "execution_count": 120,
   "id": "ea5b1967",
   "metadata": {
    "scrolled": true
   },
   "outputs": [
    {
     "name": "stdout",
     "output_type": "stream",
     "text": [
      "Train score: 1.00\n",
      "Test score: 0.83\n"
     ]
    }
   ],
   "source": [
    "print('Train score: %.2f'%bag_clf.score(X_train, y_train))\n",
    "print('Test score: %.2f'%bag_clf.score(X_test, y_test))"
   ]
  },
  {
   "cell_type": "markdown",
   "id": "74d5615b",
   "metadata": {},
   "source": [
    "Based on the above output, we can see that this model is overfitted given that Train score is 1.0"
   ]
  },
  {
   "cell_type": "markdown",
   "id": "e73fdf86",
   "metadata": {},
   "source": [
    "### Logistic Regression"
   ]
  },
  {
   "cell_type": "code",
   "execution_count": 121,
   "id": "849da1fa",
   "metadata": {},
   "outputs": [],
   "source": [
    "from sklearn.ensemble import AdaBoostClassifier\n",
    "from sklearn.model_selection import GridSearchCV\n",
    "param_grid = {'n_estimators':[100, 500 , 1000], \n",
    "              'learning_rate':[0.1, 0.5, 1 ]}"
   ]
  },
  {
   "cell_type": "code",
   "execution_count": 122,
   "id": "c5480b9e",
   "metadata": {},
   "outputs": [],
   "source": [
    "log_l1 = LogisticRegression(penalty = 'l2', C = 10 , solver = 'liblinear', max_iter = 500)\n",
    "log_ada = AdaBoostClassifier(log_l1,algorithm=\"SAMME.R\", random_state=0)"
   ]
  },
  {
   "cell_type": "code",
   "execution_count": 123,
   "id": "af4abb2d",
   "metadata": {},
   "outputs": [
    {
     "data": {
      "text/plain": [
       "GridSearchCV(cv=5,\n",
       "             estimator=AdaBoostClassifier(base_estimator=LogisticRegression(C=10,\n",
       "                                                                            max_iter=500,\n",
       "                                                                            solver='liblinear'),\n",
       "                                          random_state=0),\n",
       "             n_jobs=-1,\n",
       "             param_grid={'learning_rate': [0.1, 0.5, 1],\n",
       "                         'n_estimators': [100, 500, 1000]},\n",
       "             scoring='roc_auc')"
      ]
     },
     "execution_count": 123,
     "metadata": {},
     "output_type": "execute_result"
    }
   ],
   "source": [
    "svc_grid = GridSearchCV(log_ada, param_grid = param_grid, cv = 5, n_jobs = -1, scoring = 'roc_auc' )\n",
    "svc_grid.fit(X_train, y_train)"
   ]
  },
  {
   "cell_type": "code",
   "execution_count": 124,
   "id": "8786fb2d",
   "metadata": {},
   "outputs": [
    {
     "name": "stdout",
     "output_type": "stream",
     "text": [
      "Best parameters: {'learning_rate': 1, 'n_estimators': 1000}\n",
      "Best cross-validation score: 0.86\n"
     ]
    }
   ],
   "source": [
    "print(\"Best parameters: {}\".format(svc_grid.best_params_))\n",
    "print(\"Best cross-validation score: {:.2f}\".format(svc_grid.best_score_))"
   ]
  },
  {
   "cell_type": "code",
   "execution_count": 125,
   "id": "f4a45c9f",
   "metadata": {},
   "outputs": [],
   "source": [
    "log_ada = AdaBoostClassifier(log_ada,algorithm=\"SAMME.R\",n_estimators = 1000 ,learning_rate = 1,  random_state=0)"
   ]
  },
  {
   "cell_type": "code",
   "execution_count": 126,
   "id": "2f75d186",
   "metadata": {},
   "outputs": [
    {
     "data": {
      "text/plain": [
       "AdaBoostClassifier(base_estimator=AdaBoostClassifier(base_estimator=LogisticRegression(C=10,\n",
       "                                                                                       max_iter=500,\n",
       "                                                                                       solver='liblinear'),\n",
       "                                                     random_state=0),\n",
       "                   learning_rate=1, n_estimators=1000, random_state=0)"
      ]
     },
     "execution_count": 126,
     "metadata": {},
     "output_type": "execute_result"
    }
   ],
   "source": [
    "log_ada.fit(X_train, y_train)"
   ]
  },
  {
   "cell_type": "code",
   "execution_count": 127,
   "id": "0c01ecda",
   "metadata": {},
   "outputs": [
    {
     "name": "stdout",
     "output_type": "stream",
     "text": [
      "Train score: 0.84\n",
      "Test score: 0.84\n"
     ]
    }
   ],
   "source": [
    "print('Train score: %.2f'%log_ada.score(X_train, y_train))\n",
    "print('Test score: %.2f'%log_ada.score(X_test, y_test))"
   ]
  },
  {
   "cell_type": "markdown",
   "id": "a288ce0b",
   "metadata": {},
   "source": [
    "# Gradient Boosting"
   ]
  },
  {
   "cell_type": "code",
   "execution_count": 128,
   "id": "148c6aff",
   "metadata": {},
   "outputs": [],
   "source": [
    "from sklearn.ensemble import GradientBoostingClassifier\n",
    "\n",
    "param_grid = {'n_estimators':[100, 500 , 1000], \n",
    "              'learning_rate':[0.1, 0.5, 1 ],\n",
    "            'max_depth' : [1,2,3]}\n",
    "\n",
    "clf = GradientBoostingClassifier(random_state=0)"
   ]
  },
  {
   "cell_type": "code",
   "execution_count": 129,
   "id": "9dae95fe",
   "metadata": {},
   "outputs": [],
   "source": [
    "gbc_grid = GridSearchCV(clf, param_grid = param_grid, cv = 5, n_jobs = -1, scoring = 'roc_auc' )"
   ]
  },
  {
   "cell_type": "code",
   "execution_count": 130,
   "id": "59485c1a",
   "metadata": {},
   "outputs": [
    {
     "data": {
      "text/plain": [
       "GridSearchCV(cv=5, estimator=GradientBoostingClassifier(random_state=0),\n",
       "             n_jobs=-1,\n",
       "             param_grid={'learning_rate': [0.1, 0.5, 1], 'max_depth': [1, 2, 3],\n",
       "                         'n_estimators': [100, 500, 1000]},\n",
       "             scoring='roc_auc')"
      ]
     },
     "execution_count": 130,
     "metadata": {},
     "output_type": "execute_result"
    }
   ],
   "source": [
    "gbc_grid.fit(X_train, y_train)"
   ]
  },
  {
   "cell_type": "code",
   "execution_count": 131,
   "id": "ae86b9fa",
   "metadata": {},
   "outputs": [
    {
     "name": "stdout",
     "output_type": "stream",
     "text": [
      "Best parameters: {'learning_rate': 0.1, 'max_depth': 2, 'n_estimators': 100}\n",
      "Best cross-validation score: 0.86\n"
     ]
    }
   ],
   "source": [
    "print(\"Best parameters: {}\".format(gbc_grid.best_params_))\n",
    "print(\"Best cross-validation score: {:.2f}\".format(gbc_grid.best_score_))"
   ]
  },
  {
   "cell_type": "code",
   "execution_count": 132,
   "id": "53da3291",
   "metadata": {},
   "outputs": [
    {
     "data": {
      "text/plain": [
       "GradientBoostingClassifier(max_depth=2, n_estimators=500, random_state=0)"
      ]
     },
     "execution_count": 132,
     "metadata": {},
     "output_type": "execute_result"
    }
   ],
   "source": [
    "gbrt = GradientBoostingClassifier(max_depth = 2,n_estimators = 500, learning_rate=0.1, random_state=0,)\n",
    "gbrt.fit(X_train, y_train)"
   ]
  },
  {
   "cell_type": "code",
   "execution_count": 133,
   "id": "b76c2136",
   "metadata": {},
   "outputs": [
    {
     "name": "stdout",
     "output_type": "stream",
     "text": [
      "Accuracy on training set: 0.877\n",
      "Accuracy on test set: 0.852\n"
     ]
    }
   ],
   "source": [
    "print(\"Accuracy on training set: {:.3f}\".format(gbrt.score(X_train, y_train)))\n",
    "print(\"Accuracy on test set: {:.3f}\".format(gbrt.score(X_test, y_test)))"
   ]
  },
  {
   "cell_type": "markdown",
   "id": "67baf53f",
   "metadata": {},
   "source": [
    "# PCA"
   ]
  },
  {
   "cell_type": "code",
   "execution_count": 134,
   "id": "0c4070c5",
   "metadata": {},
   "outputs": [],
   "source": [
    "from sklearn.decomposition import PCA\n",
    "pca = PCA(n_components= 0.95)\n",
    "X_train_pca = pca.fit_transform(X_train)\n",
    "X_test_pca = pca.transform(X_test)"
   ]
  },
  {
   "cell_type": "markdown",
   "id": "4be9f8e5",
   "metadata": {},
   "source": [
    "### KNN Classifier"
   ]
  },
  {
   "cell_type": "code",
   "execution_count": 135,
   "id": "93958206",
   "metadata": {},
   "outputs": [],
   "source": [
    "k_range = list(range(1, 31))\n",
    "param_grid = dict(n_neighbors=k_range)"
   ]
  },
  {
   "cell_type": "code",
   "execution_count": 136,
   "id": "e6031508",
   "metadata": {},
   "outputs": [],
   "source": [
    "from sklearn.model_selection import GridSearchCV\n",
    "from sklearn.neighbors import KNeighborsClassifier\n",
    "\n",
    "grid_search = GridSearchCV(KNeighborsClassifier(), param_grid, cv=5, return_train_score=True,scoring= 'roc_auc')"
   ]
  },
  {
   "cell_type": "code",
   "execution_count": 137,
   "id": "c74c0a7b",
   "metadata": {},
   "outputs": [
    {
     "data": {
      "text/plain": [
       "GridSearchCV(cv=5, estimator=KNeighborsClassifier(),\n",
       "             param_grid={'n_neighbors': [1, 2, 3, 4, 5, 6, 7, 8, 9, 10, 11, 12,\n",
       "                                         13, 14, 15, 16, 17, 18, 19, 20, 21, 22,\n",
       "                                         23, 24, 25, 26, 27, 28, 29, 30]},\n",
       "             return_train_score=True, scoring='roc_auc')"
      ]
     },
     "execution_count": 137,
     "metadata": {},
     "output_type": "execute_result"
    }
   ],
   "source": [
    "grid_search.fit(X_train_pca, y_train)"
   ]
  },
  {
   "cell_type": "code",
   "execution_count": 138,
   "id": "c94eb6a6",
   "metadata": {},
   "outputs": [
    {
     "name": "stdout",
     "output_type": "stream",
     "text": [
      "Best parameters: {'n_neighbors': 19}\n",
      "Best cross-validation score: 0.78\n"
     ]
    }
   ],
   "source": [
    "print(\"Best parameters: {}\".format(grid_search.best_params_))\n",
    "print(\"Best cross-validation score: {:.2f}\".format(grid_search.best_score_))"
   ]
  },
  {
   "cell_type": "code",
   "execution_count": 139,
   "id": "fe4c652b",
   "metadata": {},
   "outputs": [
    {
     "name": "stdout",
     "output_type": "stream",
     "text": [
      "KNN-Testscore-pca 0.8033605812897366\n",
      "KNN-Trainscore-pca 0.8090262002120249\n"
     ]
    }
   ],
   "source": [
    "from sklearn.neighbors import KNeighborsClassifier\n",
    "knn = KNeighborsClassifier(30)\n",
    "knn.fit(X_train_pca, y_train)\n",
    "Test_score = knn.score(X_test_pca, y_test)\n",
    "Train_score = knn.score(X_train_pca, y_train)\n",
    "print('KNN-Testscore-pca',Test_score)\n",
    "print('KNN-Trainscore-pca',Train_score)"
   ]
  },
  {
   "cell_type": "markdown",
   "id": "54568b88",
   "metadata": {},
   "source": [
    "### Logistic Regression"
   ]
  },
  {
   "cell_type": "code",
   "execution_count": 140,
   "id": "782af878",
   "metadata": {},
   "outputs": [
    {
     "data": {
      "text/plain": [
       "GridSearchCV(cv=5, estimator=LogisticRegression(max_iter=10000),\n",
       "             param_grid={'C': [0.001, 0.01, 0.1, 1, 10, 100, 1000],\n",
       "                         'penalty': ['l1', 'l2'], 'solver': ['liblinear']})"
      ]
     },
     "execution_count": 140,
     "metadata": {},
     "output_type": "execute_result"
    }
   ],
   "source": [
    "from sklearn.linear_model import LogisticRegression\n",
    "c_range=[0.001, 0.01, 0.1, 1, 10, 100, 1000]\n",
    "grid = {\"C\": c_range , \"penalty\":[\"l1\",\"l2\"],\"solver\":[\"liblinear\"]}\n",
    "logreg = LogisticRegression(max_iter = 10000)\n",
    "logreg_cv = GridSearchCV(logreg,grid,cv= 5)\n",
    "logreg_cv.fit(X_train_pca,y_train)"
   ]
  },
  {
   "cell_type": "code",
   "execution_count": 141,
   "id": "2d11dcfc",
   "metadata": {},
   "outputs": [
    {
     "name": "stdout",
     "output_type": "stream",
     "text": [
      "tuned Hyperparameters :(best parameters)  {'C': 10, 'penalty': 'l1', 'solver': 'liblinear'}\n",
      "Cross validation score : 0.8302290505356364\n"
     ]
    }
   ],
   "source": [
    "print(\"tuned Hyperparameters :(best parameters) \",logreg_cv.best_params_)\n",
    "print(\"Cross validation score :\",logreg_cv.best_score_)"
   ]
  },
  {
   "cell_type": "code",
   "execution_count": 142,
   "id": "e5a7d9ea",
   "metadata": {},
   "outputs": [],
   "source": [
    "from sklearn.linear_model import LogisticRegression\n",
    "log_l1 = LogisticRegression(penalty = 'l2', C = 10, solver = 'liblinear', max_iter = 500)"
   ]
  },
  {
   "cell_type": "code",
   "execution_count": 143,
   "id": "f58eab8b",
   "metadata": {},
   "outputs": [
    {
     "name": "stdout",
     "output_type": "stream",
     "text": [
      "Train Score-pca 0.8296228986824171\n",
      "Test Score-pca 0.832425068119891\n"
     ]
    }
   ],
   "source": [
    "log_l1.fit(X_train_pca, y_train)\n",
    "train_score = (log_l1.score(X_train_pca, y_train))\n",
    "test_score = (log_l1.score(X_test_pca, y_test))\n",
    "print('Train Score-pca',train_score)\n",
    "print('Test Score-pca' ,test_score)"
   ]
  },
  {
   "cell_type": "markdown",
   "id": "b86b753e",
   "metadata": {},
   "source": [
    "### Linear SVC"
   ]
  },
  {
   "cell_type": "code",
   "execution_count": 144,
   "id": "63170715",
   "metadata": {},
   "outputs": [
    {
     "data": {
      "text/plain": [
       "{'C': [0.001, 0.01, 0.1, 1, 10, 100]}"
      ]
     },
     "execution_count": 144,
     "metadata": {},
     "output_type": "execute_result"
    }
   ],
   "source": [
    "from sklearn.svm import LinearSVC\n",
    "param_grid = {\"C\": [0.001, 0.01, 0.1, 1, 10, 100]}\n",
    "param_grid"
   ]
  },
  {
   "cell_type": "code",
   "execution_count": 145,
   "id": "49ff844f",
   "metadata": {},
   "outputs": [],
   "source": [
    "svm = LinearSVC(C = param_grid, max_iter = 40000)\n",
    "logreg_cv = GridSearchCV(svm,param_grid,cv= 5)"
   ]
  },
  {
   "cell_type": "code",
   "execution_count": 146,
   "id": "a7bc3bc2",
   "metadata": {},
   "outputs": [
    {
     "data": {
      "text/plain": [
       "GridSearchCV(cv=5,\n",
       "             estimator=LinearSVC(C={'C': [0.001, 0.01, 0.1, 1, 10, 100]},\n",
       "                                 max_iter=40000),\n",
       "             param_grid={'C': [0.001, 0.01, 0.1, 1, 10, 100]})"
      ]
     },
     "execution_count": 146,
     "metadata": {},
     "output_type": "execute_result"
    }
   ],
   "source": [
    "logreg_cv.fit(X_train_pca,y_train)"
   ]
  },
  {
   "cell_type": "code",
   "execution_count": 147,
   "id": "9aaa7b0d",
   "metadata": {},
   "outputs": [
    {
     "name": "stdout",
     "output_type": "stream",
     "text": [
      "tuned Hyperparameters :(best parameters)  {'C': 0.1}\n",
      "Cross validation score : 0.8294709012914918\n"
     ]
    }
   ],
   "source": [
    "print(\"tuned Hyperparameters :(best parameters) \",logreg_cv.best_params_)\n",
    "print(\"Cross validation score :\",logreg_cv.best_score_)"
   ]
  },
  {
   "cell_type": "code",
   "execution_count": 148,
   "id": "e9fc7dcc",
   "metadata": {},
   "outputs": [],
   "source": [
    "from sklearn.svm import SVC, LinearSVC\n",
    "svm = LinearSVC(C=1 )"
   ]
  },
  {
   "cell_type": "code",
   "execution_count": 149,
   "id": "f5d9ed63",
   "metadata": {},
   "outputs": [
    {
     "name": "stdout",
     "output_type": "stream",
     "text": [
      "Train Score-pca 0.8291685597455702\n",
      "Test Score-pca 0.8374205267938238\n"
     ]
    }
   ],
   "source": [
    "svm.fit(X_train_pca, y_train)\n",
    "train_score = (svm.score(X_train_pca, y_train))\n",
    "test_score = (svm.score(X_test_pca, y_test))\n",
    "print('Train Score-pca',train_score)\n",
    "print('Test Score-pca' ,test_score)"
   ]
  },
  {
   "cell_type": "markdown",
   "id": "d4885d50",
   "metadata": {},
   "source": [
    "### SVC with RBF Kernel"
   ]
  },
  {
   "cell_type": "code",
   "execution_count": 150,
   "id": "f99889ea",
   "metadata": {},
   "outputs": [
    {
     "name": "stdout",
     "output_type": "stream",
     "text": [
      "Parameter grid:\n",
      "{'C': [0.001, 0.01, 0.1, 1, 10, 100], 'gamma': [0.001, 0.01, 0.1, 1, 10, 100]}\n"
     ]
    }
   ],
   "source": [
    "param_grid = {'C': [0.001, 0.01, 0.1, 1, 10, 100],\n",
    "              'gamma': [0.001, 0.01, 0.1, 1, 10, 100]}\n",
    "print(\"Parameter grid:\\n{}\".format(param_grid))"
   ]
  },
  {
   "cell_type": "code",
   "execution_count": 151,
   "id": "83c4ab63",
   "metadata": {},
   "outputs": [],
   "source": [
    "from sklearn.model_selection import GridSearchCV\n",
    "from sklearn.svm import SVC\n",
    "\n",
    "grid_search_rbf = GridSearchCV(SVC(kernel = 'rbf'), param_grid, cv=5, return_train_score=True)"
   ]
  },
  {
   "cell_type": "code",
   "execution_count": 152,
   "id": "1d8102a2",
   "metadata": {},
   "outputs": [
    {
     "data": {
      "text/plain": [
       "GridSearchCV(cv=5, estimator=SVC(),\n",
       "             param_grid={'C': [0.001, 0.01, 0.1, 1, 10, 100],\n",
       "                         'gamma': [0.001, 0.01, 0.1, 1, 10, 100]},\n",
       "             return_train_score=True)"
      ]
     },
     "execution_count": 152,
     "metadata": {},
     "output_type": "execute_result"
    }
   ],
   "source": [
    "grid_search_rbf.fit(X_train_pca, y_train)"
   ]
  },
  {
   "cell_type": "code",
   "execution_count": 153,
   "id": "ca28b359",
   "metadata": {},
   "outputs": [
    {
     "name": "stdout",
     "output_type": "stream",
     "text": [
      "Best parameters: {'C': 100, 'gamma': 0.001}\n",
      "Best cross-validation score: 0.83\n"
     ]
    }
   ],
   "source": [
    "print(\"Best parameters: {}\".format(grid_search_rbf.best_params_))\n",
    "print(\"Best cross-validation score: {:.2f}\".format(grid_search_rbf.best_score_))"
   ]
  },
  {
   "cell_type": "code",
   "execution_count": 154,
   "id": "2d86933b",
   "metadata": {},
   "outputs": [
    {
     "data": {
      "text/plain": [
       "SVC(C=100, gamma=0.1)"
      ]
     },
     "execution_count": 154,
     "metadata": {},
     "output_type": "execute_result"
    }
   ],
   "source": [
    "clf = SVC(kernel='rbf', C = 100 ,gamma = 0.1  )\n",
    "clf.fit(X_train_pca, y_train)"
   ]
  },
  {
   "cell_type": "code",
   "execution_count": 155,
   "id": "fd2cf4f3",
   "metadata": {},
   "outputs": [
    {
     "name": "stdout",
     "output_type": "stream",
     "text": [
      "Train Score-pca 0.8447675299106466\n",
      "Test Score-pca 0.8401453224341507\n"
     ]
    }
   ],
   "source": [
    "clf.fit(X_train_pca, y_train)\n",
    "train_score = (clf.score(X_train_pca, y_train))\n",
    "test_score = (clf.score(X_test_pca, y_test))\n",
    "print('Train Score-pca',train_score)\n",
    "print('Test Score-pca' ,test_score)"
   ]
  },
  {
   "cell_type": "markdown",
   "id": "97f314b6",
   "metadata": {},
   "source": [
    "### SVC with poly Kernel"
   ]
  },
  {
   "cell_type": "code",
   "execution_count": 156,
   "id": "242d5ba4",
   "metadata": {},
   "outputs": [
    {
     "name": "stdout",
     "output_type": "stream",
     "text": [
      "Parameter grid:\n",
      "{'C': [0.001, 0.01, 0.1, 1, 10, 100], 'degree': [1, 2, 3, 4, 5, 6, 7, 8, 9, 10]}\n"
     ]
    }
   ],
   "source": [
    "param_grid = {'C': [0.001, 0.01, 0.1, 1, 10, 100],\n",
    "              'degree': [1,2,3,4,5,6,7,8,9,10]}\n",
    "print(\"Parameter grid:\\n{}\".format(param_grid))"
   ]
  },
  {
   "cell_type": "code",
   "execution_count": 157,
   "id": "f222bca2",
   "metadata": {},
   "outputs": [],
   "source": [
    "grid_search_poly = GridSearchCV(SVC(kernel = 'poly'),param_grid, cv=5, return_train_score=True)"
   ]
  },
  {
   "cell_type": "code",
   "execution_count": 158,
   "id": "a529b159",
   "metadata": {},
   "outputs": [
    {
     "data": {
      "text/plain": [
       "GridSearchCV(cv=5, estimator=SVC(kernel='poly'),\n",
       "             param_grid={'C': [0.001, 0.01, 0.1, 1, 10, 100],\n",
       "                         'degree': [1, 2, 3, 4, 5, 6, 7, 8, 9, 10]},\n",
       "             return_train_score=True)"
      ]
     },
     "execution_count": 158,
     "metadata": {},
     "output_type": "execute_result"
    }
   ],
   "source": [
    "grid_search_poly.fit(X_train_pca, y_train)"
   ]
  },
  {
   "cell_type": "code",
   "execution_count": 159,
   "id": "0f86a97a",
   "metadata": {},
   "outputs": [
    {
     "name": "stdout",
     "output_type": "stream",
     "text": [
      "tuned Hyperparameters :(best parameters)  {'C': 1, 'degree': 1}\n",
      "Cross validation score : 0.8300768472002386\n"
     ]
    }
   ],
   "source": [
    "print(\"tuned Hyperparameters :(best parameters) \",grid_search_poly.best_params_)\n",
    "print(\"Cross validation score :\",grid_search_poly.best_score_)"
   ]
  },
  {
   "cell_type": "code",
   "execution_count": 160,
   "id": "02937347",
   "metadata": {},
   "outputs": [],
   "source": [
    "clf2 = SVC(kernel='poly', C= 10, degree = 3)"
   ]
  },
  {
   "cell_type": "code",
   "execution_count": 161,
   "id": "d8a57865",
   "metadata": {},
   "outputs": [
    {
     "data": {
      "text/plain": [
       "SVC(C=10, kernel='poly')"
      ]
     },
     "execution_count": 161,
     "metadata": {},
     "output_type": "execute_result"
    }
   ],
   "source": [
    "clf2.fit(X_train_pca, y_train)"
   ]
  },
  {
   "cell_type": "code",
   "execution_count": 162,
   "id": "249f52a1",
   "metadata": {},
   "outputs": [
    {
     "name": "stdout",
     "output_type": "stream",
     "text": [
      "Train Score-pca 0.8555202180826896\n",
      "Test Score-pca 0.8356039963669392\n"
     ]
    }
   ],
   "source": [
    "train_score = (clf2.score(X_train_pca, y_train))\n",
    "test_score = (clf2.score(X_test_pca, y_test))\n",
    "print('Train Score-pca',train_score)\n",
    "print('Test Score-pca' ,test_score)"
   ]
  },
  {
   "cell_type": "markdown",
   "id": "5f6dc548",
   "metadata": {},
   "source": [
    "### SVC with Linear Kernel"
   ]
  },
  {
   "cell_type": "code",
   "execution_count": 163,
   "id": "a45a9753",
   "metadata": {},
   "outputs": [
    {
     "name": "stdout",
     "output_type": "stream",
     "text": [
      "Parameter grid:\n",
      "{'C': [0.001, 0.01, 0.1, 1, 10, 100]}\n"
     ]
    }
   ],
   "source": [
    "param_grid = {'C': [0.001, 0.01, 0.1, 1, 10, 100]}\n",
    "print(\"Parameter grid:\\n{}\".format(param_grid))"
   ]
  },
  {
   "cell_type": "code",
   "execution_count": 164,
   "id": "a1269222",
   "metadata": {},
   "outputs": [],
   "source": [
    "grid_search = GridSearchCV(SVC(kernel = 'linear'), param_grid, cv=5, return_train_score=True)"
   ]
  },
  {
   "cell_type": "code",
   "execution_count": 165,
   "id": "8873b603",
   "metadata": {},
   "outputs": [
    {
     "data": {
      "text/plain": [
       "GridSearchCV(cv=5, estimator=SVC(kernel='linear'),\n",
       "             param_grid={'C': [0.001, 0.01, 0.1, 1, 10, 100]},\n",
       "             return_train_score=True)"
      ]
     },
     "execution_count": 165,
     "metadata": {},
     "output_type": "execute_result"
    }
   ],
   "source": [
    "grid_search.fit(X_train_pca, y_train)"
   ]
  },
  {
   "cell_type": "code",
   "execution_count": 166,
   "id": "8b3da38e",
   "metadata": {},
   "outputs": [
    {
     "name": "stdout",
     "output_type": "stream",
     "text": [
      "Best parameters: {'C': 1}\n",
      "Best cross-validation score: 0.83\n"
     ]
    }
   ],
   "source": [
    "print(\"Best parameters: {}\".format(grid_search.best_params_))\n",
    "print(\"Best cross-validation score: {:.2f}\".format(grid_search.best_score_))"
   ]
  },
  {
   "cell_type": "code",
   "execution_count": 167,
   "id": "d99f1b92",
   "metadata": {},
   "outputs": [
    {
     "data": {
      "text/plain": [
       "SVC(C=1, kernel='linear')"
      ]
     },
     "execution_count": 167,
     "metadata": {},
     "output_type": "execute_result"
    }
   ],
   "source": [
    "clf3 = SVC(kernel='linear', C=1 )\n",
    "clf3.fit(X_train_pca, y_train)"
   ]
  },
  {
   "cell_type": "code",
   "execution_count": 168,
   "id": "d0d8ca33",
   "metadata": {},
   "outputs": [
    {
     "name": "stdout",
     "output_type": "stream",
     "text": [
      "Train Score-pca 0.8302286839315463\n",
      "Test Score-pca 0.8383287920072662\n"
     ]
    }
   ],
   "source": [
    "train_score = (clf3.score(X_train_pca, y_train))\n",
    "test_score = (clf3.score(X_test_pca, y_test))\n",
    "print('Train Score-pca',(clf3.score(X_train_pca, y_train)))\n",
    "print('Test Score-pca' ,(clf3.score(X_test_pca, y_test)))"
   ]
  },
  {
   "cell_type": "markdown",
   "id": "90797da0",
   "metadata": {},
   "source": [
    "### Decision Tree"
   ]
  },
  {
   "cell_type": "code",
   "execution_count": 169,
   "id": "58e6fdaa",
   "metadata": {},
   "outputs": [
    {
     "name": "stdout",
     "output_type": "stream",
     "text": [
      "Best score: 0.83\n",
      "Best parameters: {'max_depth': 6, 'min_samples': 25, 'min_samples_split': 10, 'min_impurity_decrease': 0.0002}\n"
     ]
    }
   ],
   "source": [
    "from sklearn.svm import SVC\n",
    "from sklearn.model_selection import train_test_split\n",
    "from sklearn.preprocessing import MinMaxScaler\n",
    "from sklearn.tree import DecisionTreeClassifier\n",
    "\n",
    "best_score = 0\n",
    "for max_depth in [1,2,3,4,5,6,7,8,9,10]:\n",
    "    for min_samples_leaf in [10,25,50,100,500,1000,250,1500,2000,750]:\n",
    "        for  min_samples_split in [10,50,100,150,200,250,300,350,400,450]:\n",
    "        # for each combination of parameters, train an SVC\n",
    "            for min_impurity_decrease in [0.0002,0.0005,0.0007,0.0009,0.001,0.003,0.005,0.007,0.009,0.01]:\n",
    "                dtree = DecisionTreeClassifier(max_depth = max_depth, min_samples_leaf = min_samples_leaf, min_samples_split = min_samples_split, random_state=0)\n",
    "                dtree.fit(X_train_pca, y_train)\n",
    "        # evaluate the SVC on the test set\n",
    "                score = dtree.score(X_test_pca, y_test)\n",
    "        # if we got a better score, store the score and parameters\n",
    "                if score > best_score:\n",
    "                    best_score = score\n",
    "                    best_parameters = {'max_depth': max_depth, 'min_samples': min_samples_leaf,'min_samples_split': min_samples_split, 'min_impurity_decrease':min_impurity_decrease}\n",
    "\n",
    "print(\"Best score: {:.2f}\".format(best_score))\n",
    "print(\"Best parameters: {}\".format(best_parameters))"
   ]
  },
  {
   "cell_type": "code",
   "execution_count": 170,
   "id": "3b4a62f8",
   "metadata": {
    "scrolled": true
   },
   "outputs": [
    {
     "data": {
      "text/plain": [
       "DecisionTreeClassifier(max_depth=8, min_impurity_decrease=0.0002,\n",
       "                       min_samples_leaf=25, min_samples_split=100,\n",
       "                       random_state=0)"
      ]
     },
     "execution_count": 170,
     "metadata": {},
     "output_type": "execute_result"
    }
   ],
   "source": [
    "dtree = DecisionTreeClassifier(max_depth = 8, min_samples_leaf = 25 , min_samples_split = 100, min_impurity_decrease = 0.0002 ,random_state=0)\n",
    "dtree.fit(X_train_pca, y_train)"
   ]
  },
  {
   "cell_type": "code",
   "execution_count": 171,
   "id": "6077cdf5",
   "metadata": {},
   "outputs": [
    {
     "name": "stdout",
     "output_type": "stream",
     "text": [
      "Train Score-pca 0.843404513100106\n",
      "Test Score-pca 0.8133514986376021\n"
     ]
    }
   ],
   "source": [
    "train_score = (dtree.score(X_train_pca, y_train))\n",
    "test_score = (dtree.score(X_test_pca, y_test))\n",
    "print('Train Score-pca',train_score)\n",
    "print('Test Score-pca' ,test_score)"
   ]
  },
  {
   "cell_type": "markdown",
   "id": "f3547363",
   "metadata": {},
   "source": [
    "Comparision between test scores of models before and after pca \n",
    "                                                     \n",
    "                                    \n",
    "<b>KNN  </b>                            \n",
    "\n",
    "Before PCA\n",
    "\n",
    "Train score: 0.8178 <br>\n",
    "Test score: 0.7986\n",
    "\n",
    "After PCA :\n",
    "\n",
    "KNN-Trainscore-pca 0.8090262002120249 <br>\n",
    "KNN-Testscore-pca 0.8033605812897366\n",
    "\n",
    "<b>Logistic Regression </b> \n",
    "\n",
    "Before PCA\n",
    "\n",
    "Train Score 0.8417645287563986<br>\n",
    "Test Score 0.8388261851015801\n",
    "\n",
    "AFTER PCA :\n",
    "\n",
    "Train Score-pca 0.8296228986824171<br>\n",
    "Test Score-pca 0.832425068119891\n",
    "\n",
    "<b>SVC</b>                             \n",
    "Before PCA \n",
    "\n",
    "Train Score for LSVM:  0.8398072869617585<br>\n",
    "Test Score for LSVM:  0.8392776523702031\n",
    "\n",
    "After PCA :\n",
    "\n",
    "Train Score-pca 0.8291685597455702<br>\n",
    "Test Score-pca 0.8374205267938238\n",
    "\n",
    "<b> SVC with RBF Kernel </b>\n",
    "    \n",
    "BEFORE PCA :\n",
    "\n",
    "Train Score 0.8464317976513098<br>\n",
    "Test Score 0.8415349887133183\n",
    "\n",
    "AFTER PCA :\n",
    "\n",
    "Train Score-pca 0.8447675299106466<br>\n",
    "Test Score-pca 0.8401453224341507\n",
    "\n",
    "<b> SVC with Poly kernel </b>\n",
    "\n",
    "BEFORE PCA :\n",
    "\n",
    "Train Score 0.8578741342968985<br>\n",
    "Test Score 0.8410835214446952\n",
    "\n",
    "After PCA :\n",
    "\n",
    "Train Score-pca 0.8555202180826896<br>\n",
    "Test Score-pca 0.8356039963669392\n",
    "\n",
    "<b>SVC with Linear kernel</b>\n",
    "\n",
    "BEFORE PCA :\n",
    "\n",
    "Train Score 0.8434206564287865<br>\n",
    "Test Score 0.8424379232505643\n",
    "\n",
    "AFTER PCA :\n",
    "\n",
    "Train Score-pca 0.830228683931546<br>\n",
    "Test Score-pca 0.8383287920072662\n",
    "\n",
    "<b>Decision Tree </b>\n",
    "\n",
    "BEFORE PCA :\n",
    "\n",
    "Train Score 0.8503462812405902<br>\n",
    "Test Score 0.8311512415349888\n",
    "\n",
    "AFTER PCA :\n",
    "\n",
    "Train Score-pca 0.843404513100106<br>\n",
    "Test Score-pca 0.8133514986376021"
   ]
  },
  {
   "cell_type": "markdown",
   "id": "556da433",
   "metadata": {},
   "source": [
    "### As per the comparision, I can see that test score does not improve after adding PCA for this dataset"
   ]
  },
  {
   "cell_type": "code",
   "execution_count": 266,
   "id": "dac2b853",
   "metadata": {},
   "outputs": [
    {
     "data": {
      "image/png": "[encoded data removed]",
      "text/plain": [
       "<Figure size 432x288 with 1 Axes>"
      ]
     },
     "metadata": {
      "needs_background": "light"
     },
     "output_type": "display_data"
    }
   ],
   "source": [
    "import matplotlib.pyplot as plt\n",
    "model_run = ['KNN', 'Logistic', 'SVC', 'SVC_RBF', 'SVC_Poly','SVC_Linear','Decision Tree']\n",
    "test_score = [0.798,0.838,0.839,0.841,0.841,0.842,0.831]\n",
    "plt.bar(model_run,test_score)\n",
    "plt.title(\"Test Scores before PCA\")\n",
    "plt.xticks(range(len(model_run)), model_run, rotation='vertical')\n",
    "plt.show()\n"
   ]
  },
  {
   "cell_type": "code",
   "execution_count": 268,
   "id": "89f7c10b",
   "metadata": {
    "scrolled": true
   },
   "outputs": [
    {
     "data": {
      "image/png": "[encoded data removed]",
      "text/plain": [
       "<Figure size 432x288 with 1 Axes>"
      ]
     },
     "metadata": {
      "needs_background": "light"
     },
     "output_type": "display_data"
    }
   ],
   "source": [
    "import matplotlib.pyplot as plt\n",
    "model_run = ['KNN', 'Logistic', 'SVC', 'SVC_RBF', 'SVC_Poly','SVC_Linear','Decision Tree']\n",
    "test_score = [0.803,0.832,0.837,0.840,0.835,0.838,0.813]\n",
    "plt.bar(model_run,test_score)\n",
    "plt.title(\"Test Scores after PCA\")\n",
    "plt.xticks(range(len(model_run)), model_run, rotation='vertical')\n",
    "plt.show()\n"
   ]
  },
  {
   "cell_type": "code",
   "execution_count": 275,
   "id": "7f9b7814",
   "metadata": {},
   "outputs": [
    {
     "data": {
      "image/png": "[encoded data removed]",
      "text/plain": [
       "<Figure size 432x288 with 1 Axes>"
      ]
     },
     "metadata": {
      "needs_background": "light"
     },
     "output_type": "display_data"
    }
   ],
   "source": [
    "import matplotlib.pyplot as plt\n",
    "import numpy as np\n",
    "\n",
    "w=0.4\n",
    "x = ['KNN', 'Logistic', 'SVC', 'SVC_RBF', 'SVC_Poly','SVC_Linear','Decision Tree']\n",
    "before_PCA = [0.798,0.838,0.839,0.841,0.841,0.842,0.831]\n",
    "after_PCA = [0.803,0.832,0.837,0.840,0.835,0.838,0.813]\n",
    "\n",
    "bar1=np.arange(len(x))\n",
    "bar2= [i+w for i in bar1]\n",
    "\n",
    "plt.bar(bar1,before_PCA,w,label=\"Before PCA\")\n",
    "plt.bar(bar2,after_PCA,w,label=\"After PCA\")\n",
    "\n",
    "plt.xlabel(\"Models Applied\")\n",
    "plt.ylabel(\"Test Scores\")\n",
    "plt.title(\"Test score variation before and after PCA\")\n",
    "plt.legend()\n",
    "plt.xticks(range(len(x)), x, rotation='vertical')\n",
    "plt.show()"
   ]
  },
  {
   "cell_type": "markdown",
   "id": "4eb17268",
   "metadata": {},
   "source": [
    "Based on the above visualization, we can see that there is no additional benefit of adding PCA to this data set for any of the models."
   ]
  },
  {
   "cell_type": "markdown",
   "id": "d4ae2a55",
   "metadata": {},
   "source": [
    "# Deep Learning Models"
   ]
  },
  {
   "cell_type": "code",
   "execution_count": 172,
   "id": "496d1d6f",
   "metadata": {
    "scrolled": true
   },
   "outputs": [],
   "source": [
    "#pip install --user --ignore-installed --upgrade tensorflow \n"
   ]
  },
  {
   "cell_type": "markdown",
   "id": "cae44423",
   "metadata": {},
   "source": [
    "### Multilayer Perceptron"
   ]
  },
  {
   "cell_type": "code",
   "execution_count": 252,
   "id": "7b23d3e9",
   "metadata": {},
   "outputs": [],
   "source": [
    "import tensorflow\n",
    "import keras\n",
    "from keras import Sequential\n",
    "from keras.layers import Dense"
   ]
  },
  {
   "cell_type": "code",
   "execution_count": 253,
   "id": "6ceca72c",
   "metadata": {},
   "outputs": [
    {
     "name": "stdout",
     "output_type": "stream",
     "text": [
      "X_train shape (6603, 33)\n",
      "y_train shape (6603,)\n",
      "X_test shape (2202, 33)\n",
      "y_test shape (2202,)\n"
     ]
    }
   ],
   "source": [
    "print(\"X_train shape\", X_train.shape)\n",
    "print(\"y_train shape\", y_train.shape)\n",
    "print(\"X_test shape\", X_test.shape)\n",
    "print(\"y_test shape\", y_test.shape)"
   ]
  },
  {
   "cell_type": "code",
   "execution_count": 254,
   "id": "324b7f4f",
   "metadata": {},
   "outputs": [],
   "source": [
    "def create_model():\n",
    "    model=Sequential()\n",
    "    model.add(Dense(16,input_dim=33,kernel_initializer='normal',activation=\"relu\"))\n",
    "    model.add(Dense(8,activation=\"relu\"))\n",
    "    #model.add(Dropout(0.2))\n",
    "    model.add(Dense(2,kernel_initializer=\"normal\"))\n",
    "    model.add(Dense(1,activation=\"sigmoid\"))\n",
    "    model.compile(loss=\"categorical_crossentropy\",optimizer=\"adam\",metrics=['accuracy'])\n",
    "    return model"
   ]
  },
  {
   "cell_type": "code",
   "execution_count": 255,
   "id": "e0dcc110",
   "metadata": {},
   "outputs": [],
   "source": [
    "model=create_model()"
   ]
  },
  {
   "cell_type": "code",
   "execution_count": 256,
   "id": "f60201ce",
   "metadata": {},
   "outputs": [
    {
     "name": "stdout",
     "output_type": "stream",
     "text": [
      "Epoch 1/20\n",
      "52/52 [==============================] - 0s 1ms/step - loss: 0.0000e+00 - accuracy: 0.7518\n",
      "Epoch 2/20\n",
      "52/52 [==============================] - 0s 1ms/step - loss: 0.0000e+00 - accuracy: 0.7780\n",
      "Epoch 3/20\n",
      "52/52 [==============================] - 0s 1ms/step - loss: 0.0000e+00 - accuracy: 0.7780\n",
      "Epoch 4/20\n",
      "52/52 [==============================] - 0s 1ms/step - loss: 0.0000e+00 - accuracy: 0.7780\n",
      "Epoch 5/20\n",
      "52/52 [==============================] - 0s 1ms/step - loss: 0.0000e+00 - accuracy: 0.7780\n",
      "Epoch 6/20\n",
      "52/52 [==============================] - 0s 1ms/step - loss: 0.0000e+00 - accuracy: 0.7780\n",
      "Epoch 7/20\n",
      "52/52 [==============================] - 0s 1ms/step - loss: 0.0000e+00 - accuracy: 0.7780\n",
      "Epoch 8/20\n",
      "52/52 [==============================] - 0s 1ms/step - loss: 0.0000e+00 - accuracy: 0.7780\n",
      "Epoch 9/20\n",
      "52/52 [==============================] - 0s 1ms/step - loss: 0.0000e+00 - accuracy: 0.7780\n",
      "Epoch 10/20\n",
      "52/52 [==============================] - 0s 1ms/step - loss: 0.0000e+00 - accuracy: 0.7780\n",
      "Epoch 11/20\n",
      "52/52 [==============================] - 0s 1ms/step - loss: 0.0000e+00 - accuracy: 0.7780\n",
      "Epoch 12/20\n",
      "52/52 [==============================] - 0s 1ms/step - loss: 0.0000e+00 - accuracy: 0.7780\n",
      "Epoch 13/20\n",
      "52/52 [==============================] - 0s 1ms/step - loss: 0.0000e+00 - accuracy: 0.7780\n",
      "Epoch 14/20\n",
      "52/52 [==============================] - 0s 1ms/step - loss: 0.0000e+00 - accuracy: 0.7780\n",
      "Epoch 15/20\n",
      "52/52 [==============================] - 0s 1ms/step - loss: 0.0000e+00 - accuracy: 0.7780\n",
      "Epoch 16/20\n",
      "52/52 [==============================] - 0s 1ms/step - loss: 0.0000e+00 - accuracy: 0.7780\n",
      "Epoch 17/20\n",
      "52/52 [==============================] - 0s 1ms/step - loss: 0.0000e+00 - accuracy: 0.7780\n",
      "Epoch 18/20\n",
      "52/52 [==============================] - 0s 1ms/step - loss: 0.0000e+00 - accuracy: 0.7780\n",
      "Epoch 19/20\n",
      "52/52 [==============================] - 0s 1ms/step - loss: 0.0000e+00 - accuracy: 0.7780\n",
      "Epoch 20/20\n",
      "52/52 [==============================] - 0s 1ms/step - loss: 0.0000e+00 - accuracy: 0.7780\n"
     ]
    },
    {
     "data": {
      "text/plain": [
       "<keras.callbacks.History at 0x2098f0a3460>"
      ]
     },
     "execution_count": 256,
     "metadata": {},
     "output_type": "execute_result"
    }
   ],
   "source": [
    "model.fit(X_train,y_train,batch_size=128,epochs=20)"
   ]
  },
  {
   "cell_type": "code",
   "execution_count": 257,
   "id": "645a61d3",
   "metadata": {},
   "outputs": [
    {
     "name": "stdout",
     "output_type": "stream",
     "text": [
      "207/207 [==============================] - 0s 879us/step - loss: 0.0000e+00 - accuracy: 0.7780\n",
      "69/69 [==============================] - 0s 927us/step - loss: 0.0000e+00 - accuracy: 0.7820\n",
      "Train Loss:  0.0\n",
      "Train Accuracy:  0.7779797315597534\n",
      "Test Loss:  0.0\n",
      "Test Accuracy:  0.7820163369178772\n"
     ]
    }
   ],
   "source": [
    "train_loss_and_metrics = model.evaluate(X_train,y_train)\n",
    "test_loss_and_metrics = model.evaluate(X_test,y_test)\n",
    "\n",
    "print(\"Train Loss: \",train_loss_and_metrics[0])\n",
    "print(\"Train Accuracy: \",train_loss_and_metrics[1])\n",
    "\n",
    "print(\"Test Loss: \",test_loss_and_metrics[0])\n",
    "print(\"Test Accuracy: \",test_loss_and_metrics[1])"
   ]
  },
  {
   "cell_type": "code",
   "execution_count": 258,
   "id": "0ac1b96d",
   "metadata": {},
   "outputs": [
    {
     "name": "stdout",
     "output_type": "stream",
     "text": [
      "\n",
      "1722 Classified Correctly\n",
      "480 Classified Incorrectly\n"
     ]
    }
   ],
   "source": [
    "predict_x=model.predict(X_test) \n",
    "predicted_class=np.argmax(predict_x,axis=1)\n",
    "b=np.reshape(predicted_class,(-1))\n",
    "correct_indices=np.nonzero(b==np.array(y_test))[0]\n",
    "incorrect_indices=np.nonzero(b!=np.array(y_test))[0]\n",
    "print()\n",
    "print(len(correct_indices),\"Classified Correctly\")\n",
    "print(len(incorrect_indices),\"Classified Incorrectly\")"
   ]
  },
  {
   "cell_type": "code",
   "execution_count": 259,
   "id": "bd87d233",
   "metadata": {
    "scrolled": true
   },
   "outputs": [
    {
     "data": {
      "text/plain": [
       "'2.7.0'"
      ]
     },
     "execution_count": 259,
     "metadata": {},
     "output_type": "execute_result"
    }
   ],
   "source": [
    "tensorflow.__version__"
   ]
  },
  {
   "cell_type": "markdown",
   "id": "2b96fdc8",
   "metadata": {},
   "source": [
    "### Tensor Board"
   ]
  },
  {
   "cell_type": "code",
   "execution_count": 260,
   "id": "d67df7ea",
   "metadata": {},
   "outputs": [
    {
     "name": "stdout",
     "output_type": "stream",
     "text": [
      "The tensorboard extension is already loaded. To reload it, use:\n",
      "  %reload_ext tensorboard\n"
     ]
    }
   ],
   "source": [
    "%load_ext tensorboard"
   ]
  },
  {
   "cell_type": "code",
   "execution_count": 261,
   "id": "8552e3d2",
   "metadata": {},
   "outputs": [],
   "source": [
    "import tensorflow as tf\n",
    "import datetime"
   ]
  },
  {
   "cell_type": "code",
   "execution_count": 262,
   "id": "e83337e6",
   "metadata": {},
   "outputs": [],
   "source": [
    "def create_model():\n",
    "    return tf.keras.models.Sequential([\n",
    "        tf.keras.layers.Dense(4, activation='relu'),\n",
    "        tf.keras.layers.Dropout(0.2),\n",
    "        tf.keras.layers.Dense(4, activation='softmax')\n",
    "  ])"
   ]
  },
  {
   "cell_type": "code",
   "execution_count": 263,
   "id": "9619f357",
   "metadata": {},
   "outputs": [
    {
     "name": "stdout",
     "output_type": "stream",
     "text": [
      "Epoch 1/5\n",
      "207/207 [==============================] - 1s 2ms/step - loss: 0.9088 - accuracy: 0.6794 - val_loss: 0.5716 - val_accuracy: 0.7820\n",
      "Epoch 2/5\n",
      "207/207 [==============================] - 0s 1ms/step - loss: 0.6017 - accuracy: 0.7768 - val_loss: 0.5304 - val_accuracy: 0.7820\n",
      "Epoch 3/5\n",
      "207/207 [==============================] - 0s 1ms/step - loss: 0.5750 - accuracy: 0.7780 - val_loss: 0.5176 - val_accuracy: 0.7820\n",
      "Epoch 4/5\n",
      "207/207 [==============================] - 0s 1ms/step - loss: 0.5638 - accuracy: 0.7780 - val_loss: 0.5105 - val_accuracy: 0.7820\n",
      "Epoch 5/5\n",
      "207/207 [==============================] - 0s 1ms/step - loss: 0.5514 - accuracy: 0.7780 - val_loss: 0.5057 - val_accuracy: 0.7820\n"
     ]
    },
    {
     "data": {
      "text/plain": [
       "<keras.callbacks.History at 0x2098f1ddfa0>"
      ]
     },
     "execution_count": 263,
     "metadata": {},
     "output_type": "execute_result"
    }
   ],
   "source": [
    "model = create_model()\n",
    "model.compile(optimizer='adam',\n",
    "              loss='sparse_categorical_crossentropy',\n",
    "              metrics=['accuracy'])\n",
    "\n",
    "log_dir = \"logs/fit/\" + datetime.datetime.now().strftime(\"%Y%m%d-%H%M%S\")\n",
    "tensorboard_callback = tf.keras.callbacks.TensorBoard(log_dir=log_dir, histogram_freq=1)\n",
    "\n",
    "model.fit(x=X_train, \n",
    "          y=y_train, \n",
    "          epochs=5, \n",
    "          validation_data=(X_test, y_test), \n",
    "          callbacks=[tensorboard_callback])"
   ]
  },
  {
   "cell_type": "code",
   "execution_count": 264,
   "id": "0f274204",
   "metadata": {},
   "outputs": [
    {
     "name": "stdout",
     "output_type": "stream",
     "text": [
      "\n",
      "1722 Classified Correctly\n",
      "480 Classified Incorrectly\n"
     ]
    }
   ],
   "source": [
    "#predicted_class=model.predict_classes(X_test)\n",
    "\n",
    "predict_x=model.predict(X_test) \n",
    "predicted_class=np.argmax(predict_x,axis=1)\n",
    "b=np.reshape(predicted_class,(-1))\n",
    "correct_indices=np.nonzero(b==np.array(y_test))[0]\n",
    "incorrect_indices=np.nonzero(b!=np.array(y_test))[0]\n",
    "print()\n",
    "print(len(correct_indices),\"Classified Correctly\")\n",
    "print(len(incorrect_indices),\"Classified Incorrectly\")"
   ]
  },
  {
   "cell_type": "markdown",
   "id": "5630f49c",
   "metadata": {},
   "source": [
    "As per the output of Deep learning models, we can see 1722 classes are classified correctly while 480 classes are classified incorrectly. "
   ]
  },
  {
   "cell_type": "code",
   "execution_count": null,
   "id": "096d5b61",
   "metadata": {},
   "outputs": [],
   "source": []
  }
 ],
 "metadata": {
  "kernelspec": {
   "display_name": "Python 3",
   "language": "python",
   "name": "python3"
  },
  "language_info": {
   "codemirror_mode": {
    "name": "ipython",
    "version": 3
   },
   "file_extension": ".py",
   "mimetype": "text/x-python",
   "name": "python",
   "nbconvert_exporter": "python",
   "pygments_lexer": "ipython3",
   "version": "3.8.8"
  }
 },
 "nbformat": 4,
 "nbformat_minor": 5
}
